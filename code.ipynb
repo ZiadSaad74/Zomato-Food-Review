{
 "cells": [
  {
   "cell_type": "markdown",
   "id": "53323266",
   "metadata": {},
   "source": [
    "   "
   ]
  },
  {
   "cell_type": "code",
   "execution_count": 1,
   "id": "da3a712d",
   "metadata": {},
   "outputs": [],
   "source": [
    "# Import the appropriate packages for data exporatory, cleaning, wrangling and visulizations\n",
    "\n",
    "import pandas as pd\n",
    "import numpy as np\n",
    "import matplotlib.pyplot as plt\n",
    "import matplotlib as mpl\n",
    "import seaborn as sns"
   ]
  },
  {
   "cell_type": "code",
   "execution_count": 2,
   "id": "b0212172",
   "metadata": {},
   "outputs": [
    {
     "data": {
      "text/html": [
       "<div>\n",
       "<style scoped>\n",
       "    .dataframe tbody tr th:only-of-type {\n",
       "        vertical-align: middle;\n",
       "    }\n",
       "\n",
       "    .dataframe tbody tr th {\n",
       "        vertical-align: top;\n",
       "    }\n",
       "\n",
       "    .dataframe thead th {\n",
       "        text-align: right;\n",
       "    }\n",
       "</style>\n",
       "<table border=\"1\" class=\"dataframe\">\n",
       "  <thead>\n",
       "    <tr style=\"text-align: right;\">\n",
       "      <th></th>\n",
       "      <th>url</th>\n",
       "      <th>address</th>\n",
       "      <th>name</th>\n",
       "      <th>online_order</th>\n",
       "      <th>book_table</th>\n",
       "      <th>rate</th>\n",
       "      <th>votes</th>\n",
       "      <th>phone</th>\n",
       "      <th>location</th>\n",
       "      <th>rest_type</th>\n",
       "      <th>dish_liked</th>\n",
       "      <th>cuisines</th>\n",
       "      <th>approx_cost(for two people)</th>\n",
       "      <th>reviews_list</th>\n",
       "      <th>menu_item</th>\n",
       "      <th>listed_in(type)</th>\n",
       "      <th>listed_in(city)</th>\n",
       "    </tr>\n",
       "  </thead>\n",
       "  <tbody>\n",
       "    <tr>\n",
       "      <th>0</th>\n",
       "      <td>https://www.zomato.com/bangalore/jalsa-banasha...</td>\n",
       "      <td>942, 21st Main Road, 2nd Stage, Banashankari, ...</td>\n",
       "      <td>Jalsa</td>\n",
       "      <td>Yes</td>\n",
       "      <td>Yes</td>\n",
       "      <td>4.1/5</td>\n",
       "      <td>775</td>\n",
       "      <td>080 42297555\\r\\n+91 9743772233</td>\n",
       "      <td>Banashankari</td>\n",
       "      <td>Casual Dining</td>\n",
       "      <td>Pasta, Lunch Buffet, Masala Papad, Paneer Laja...</td>\n",
       "      <td>North Indian, Mughlai, Chinese</td>\n",
       "      <td>800</td>\n",
       "      <td>[('Rated 4.0', 'RATED\\n  A beautiful place to ...</td>\n",
       "      <td>[]</td>\n",
       "      <td>Buffet</td>\n",
       "      <td>Banashankari</td>\n",
       "    </tr>\n",
       "    <tr>\n",
       "      <th>1</th>\n",
       "      <td>https://www.zomato.com/bangalore/spice-elephan...</td>\n",
       "      <td>2nd Floor, 80 Feet Road, Near Big Bazaar, 6th ...</td>\n",
       "      <td>Spice Elephant</td>\n",
       "      <td>Yes</td>\n",
       "      <td>No</td>\n",
       "      <td>4.1/5</td>\n",
       "      <td>787</td>\n",
       "      <td>080 41714161</td>\n",
       "      <td>Banashankari</td>\n",
       "      <td>Casual Dining</td>\n",
       "      <td>Momos, Lunch Buffet, Chocolate Nirvana, Thai G...</td>\n",
       "      <td>Chinese, North Indian, Thai</td>\n",
       "      <td>800</td>\n",
       "      <td>[('Rated 4.0', 'RATED\\n  Had been here for din...</td>\n",
       "      <td>[]</td>\n",
       "      <td>Buffet</td>\n",
       "      <td>Banashankari</td>\n",
       "    </tr>\n",
       "    <tr>\n",
       "      <th>2</th>\n",
       "      <td>https://www.zomato.com/SanchurroBangalore?cont...</td>\n",
       "      <td>1112, Next to KIMS Medical College, 17th Cross...</td>\n",
       "      <td>San Churro Cafe</td>\n",
       "      <td>Yes</td>\n",
       "      <td>No</td>\n",
       "      <td>3.8/5</td>\n",
       "      <td>918</td>\n",
       "      <td>+91 9663487993</td>\n",
       "      <td>Banashankari</td>\n",
       "      <td>Cafe, Casual Dining</td>\n",
       "      <td>Churros, Cannelloni, Minestrone Soup, Hot Choc...</td>\n",
       "      <td>Cafe, Mexican, Italian</td>\n",
       "      <td>800</td>\n",
       "      <td>[('Rated 3.0', \"RATED\\n  Ambience is not that ...</td>\n",
       "      <td>[]</td>\n",
       "      <td>Buffet</td>\n",
       "      <td>Banashankari</td>\n",
       "    </tr>\n",
       "    <tr>\n",
       "      <th>3</th>\n",
       "      <td>https://www.zomato.com/bangalore/addhuri-udupi...</td>\n",
       "      <td>1st Floor, Annakuteera, 3rd Stage, Banashankar...</td>\n",
       "      <td>Addhuri Udupi Bhojana</td>\n",
       "      <td>No</td>\n",
       "      <td>No</td>\n",
       "      <td>3.7/5</td>\n",
       "      <td>88</td>\n",
       "      <td>+91 9620009302</td>\n",
       "      <td>Banashankari</td>\n",
       "      <td>Quick Bites</td>\n",
       "      <td>Masala Dosa</td>\n",
       "      <td>South Indian, North Indian</td>\n",
       "      <td>300</td>\n",
       "      <td>[('Rated 4.0', \"RATED\\n  Great food and proper...</td>\n",
       "      <td>[]</td>\n",
       "      <td>Buffet</td>\n",
       "      <td>Banashankari</td>\n",
       "    </tr>\n",
       "    <tr>\n",
       "      <th>4</th>\n",
       "      <td>https://www.zomato.com/bangalore/grand-village...</td>\n",
       "      <td>10, 3rd Floor, Lakshmi Associates, Gandhi Baza...</td>\n",
       "      <td>Grand Village</td>\n",
       "      <td>No</td>\n",
       "      <td>No</td>\n",
       "      <td>3.8/5</td>\n",
       "      <td>166</td>\n",
       "      <td>+91 8026612447\\r\\n+91 9901210005</td>\n",
       "      <td>Basavanagudi</td>\n",
       "      <td>Casual Dining</td>\n",
       "      <td>Panipuri, Gol Gappe</td>\n",
       "      <td>North Indian, Rajasthani</td>\n",
       "      <td>600</td>\n",
       "      <td>[('Rated 4.0', 'RATED\\n  Very good restaurant ...</td>\n",
       "      <td>[]</td>\n",
       "      <td>Buffet</td>\n",
       "      <td>Banashankari</td>\n",
       "    </tr>\n",
       "  </tbody>\n",
       "</table>\n",
       "</div>"
      ],
      "text/plain": [
       "                                                 url  \\\n",
       "0  https://www.zomato.com/bangalore/jalsa-banasha...   \n",
       "1  https://www.zomato.com/bangalore/spice-elephan...   \n",
       "2  https://www.zomato.com/SanchurroBangalore?cont...   \n",
       "3  https://www.zomato.com/bangalore/addhuri-udupi...   \n",
       "4  https://www.zomato.com/bangalore/grand-village...   \n",
       "\n",
       "                                             address                   name  \\\n",
       "0  942, 21st Main Road, 2nd Stage, Banashankari, ...                  Jalsa   \n",
       "1  2nd Floor, 80 Feet Road, Near Big Bazaar, 6th ...         Spice Elephant   \n",
       "2  1112, Next to KIMS Medical College, 17th Cross...        San Churro Cafe   \n",
       "3  1st Floor, Annakuteera, 3rd Stage, Banashankar...  Addhuri Udupi Bhojana   \n",
       "4  10, 3rd Floor, Lakshmi Associates, Gandhi Baza...          Grand Village   \n",
       "\n",
       "  online_order book_table   rate  votes                             phone  \\\n",
       "0          Yes        Yes  4.1/5    775    080 42297555\\r\\n+91 9743772233   \n",
       "1          Yes         No  4.1/5    787                      080 41714161   \n",
       "2          Yes         No  3.8/5    918                    +91 9663487993   \n",
       "3           No         No  3.7/5     88                    +91 9620009302   \n",
       "4           No         No  3.8/5    166  +91 8026612447\\r\\n+91 9901210005   \n",
       "\n",
       "       location            rest_type  \\\n",
       "0  Banashankari        Casual Dining   \n",
       "1  Banashankari        Casual Dining   \n",
       "2  Banashankari  Cafe, Casual Dining   \n",
       "3  Banashankari          Quick Bites   \n",
       "4  Basavanagudi        Casual Dining   \n",
       "\n",
       "                                          dish_liked  \\\n",
       "0  Pasta, Lunch Buffet, Masala Papad, Paneer Laja...   \n",
       "1  Momos, Lunch Buffet, Chocolate Nirvana, Thai G...   \n",
       "2  Churros, Cannelloni, Minestrone Soup, Hot Choc...   \n",
       "3                                        Masala Dosa   \n",
       "4                                Panipuri, Gol Gappe   \n",
       "\n",
       "                         cuisines approx_cost(for two people)  \\\n",
       "0  North Indian, Mughlai, Chinese                         800   \n",
       "1     Chinese, North Indian, Thai                         800   \n",
       "2          Cafe, Mexican, Italian                         800   \n",
       "3      South Indian, North Indian                         300   \n",
       "4        North Indian, Rajasthani                         600   \n",
       "\n",
       "                                        reviews_list menu_item  \\\n",
       "0  [('Rated 4.0', 'RATED\\n  A beautiful place to ...        []   \n",
       "1  [('Rated 4.0', 'RATED\\n  Had been here for din...        []   \n",
       "2  [('Rated 3.0', \"RATED\\n  Ambience is not that ...        []   \n",
       "3  [('Rated 4.0', \"RATED\\n  Great food and proper...        []   \n",
       "4  [('Rated 4.0', 'RATED\\n  Very good restaurant ...        []   \n",
       "\n",
       "  listed_in(type) listed_in(city)  \n",
       "0          Buffet    Banashankari  \n",
       "1          Buffet    Banashankari  \n",
       "2          Buffet    Banashankari  \n",
       "3          Buffet    Banashankari  \n",
       "4          Buffet    Banashankari  "
      ]
     },
     "execution_count": 2,
     "metadata": {},
     "output_type": "execute_result"
    }
   ],
   "source": [
    "# access the data \n",
    "\n",
    "df = pd.read_csv('C:/Users/ziad_/OneDrive/Desktop/Dsquare task/zomato.csv')\n",
    "df.head(5)"
   ]
  },
  {
   "cell_type": "code",
   "execution_count": 3,
   "id": "dea28f51",
   "metadata": {},
   "outputs": [
    {
     "name": "stdout",
     "output_type": "stream",
     "text": [
      "<class 'pandas.core.frame.DataFrame'>\n",
      "RangeIndex: 51717 entries, 0 to 51716\n",
      "Data columns (total 17 columns):\n",
      " #   Column                       Non-Null Count  Dtype \n",
      "---  ------                       --------------  ----- \n",
      " 0   url                          51717 non-null  object\n",
      " 1   address                      51717 non-null  object\n",
      " 2   name                         51717 non-null  object\n",
      " 3   online_order                 51717 non-null  object\n",
      " 4   book_table                   51717 non-null  object\n",
      " 5   rate                         43942 non-null  object\n",
      " 6   votes                        51717 non-null  int64 \n",
      " 7   phone                        50509 non-null  object\n",
      " 8   location                     51696 non-null  object\n",
      " 9   rest_type                    51490 non-null  object\n",
      " 10  dish_liked                   23639 non-null  object\n",
      " 11  cuisines                     51672 non-null  object\n",
      " 12  approx_cost(for two people)  51371 non-null  object\n",
      " 13  reviews_list                 51717 non-null  object\n",
      " 14  menu_item                    51717 non-null  object\n",
      " 15  listed_in(type)              51717 non-null  object\n",
      " 16  listed_in(city)              51717 non-null  object\n",
      "dtypes: int64(1), object(16)\n",
      "memory usage: 6.7+ MB\n"
     ]
    }
   ],
   "source": [
    "# Check some info about the data, like null values, column fullnames, columns datatypes,columns number\n",
    "df.info()"
   ]
  },
  {
   "cell_type": "code",
   "execution_count": 4,
   "id": "e25671a2",
   "metadata": {},
   "outputs": [
    {
     "data": {
      "text/plain": [
       "url                                0\n",
       "address                            0\n",
       "name                               0\n",
       "online_order                       0\n",
       "book_table                         0\n",
       "rate                            7775\n",
       "votes                              0\n",
       "phone                           1208\n",
       "location                          21\n",
       "rest_type                        227\n",
       "dish_liked                     28078\n",
       "cuisines                          45\n",
       "approx_cost(for two people)      346\n",
       "reviews_list                       0\n",
       "menu_item                          0\n",
       "listed_in(type)                    0\n",
       "listed_in(city)                    0\n",
       "dtype: int64"
      ]
     },
     "execution_count": 4,
     "metadata": {},
     "output_type": "execute_result"
    }
   ],
   "source": [
    "# Check if there's any null values and count their summation\n",
    "\n",
    "df.isnull().sum()"
   ]
  },
  {
   "cell_type": "code",
   "execution_count": 7,
   "id": "485d7842",
   "metadata": {},
   "outputs": [],
   "source": [
    "# Drop irrelevent columns, irrelevent as it's not important for analysis\n",
    "\n",
    "df.drop(['menu_item','url', 'address','location'], axis = 1, inplace =True)"
   ]
  },
  {
   "cell_type": "code",
   "execution_count": 9,
   "id": "4682671b",
   "metadata": {},
   "outputs": [],
   "source": [
    "# Initialize a function to fill null values.\n",
    "\n",
    "def fillnull(col, value):\n",
    "    col.fillna(value, axis=0, inplace=True)\n",
    "\n",
    "fillnull(df['dish_liked'],'none')\n",
    "fillnull(df['phone'],'0')\n",
    "fillnull(df['cuisines'],'normal')\n",
    "df['rest_type'] = df['rest_type'].fillna(df['listed_in(type)'])"
   ]
  },
  {
   "cell_type": "markdown",
   "id": "160ef410",
   "metadata": {},
   "source": [
    "Above I decided to keep these columns but about the null values I thought that filling them with none or 0 for pjone column, will be more effecient more than dropping them, to get benefit of them"
   ]
  },
  {
   "cell_type": "code",
   "execution_count": 10,
   "id": "91c7cb8f",
   "metadata": {},
   "outputs": [],
   "source": [
    "# Rename some columns to new simple name to ease accessing them i further processes\n",
    "\n",
    "df = df.rename(columns ={\"approx_cost(for two people)\":\"cost_for_two\", \n",
    "                         \"listed_in(type)\":\"Restaurant_type\",\n",
    "                         \"listed_in(city)\":\"location\", \"rate\":\"rate(5)\"})"
   ]
  },
  {
   "cell_type": "code",
   "execution_count": 11,
   "id": "f50a0626",
   "metadata": {},
   "outputs": [
    {
     "name": "stdout",
     "output_type": "stream",
     "text": [
      "<class 'pandas.core.frame.DataFrame'>\n",
      "RangeIndex: 51717 entries, 0 to 51716\n",
      "Data columns (total 13 columns):\n",
      " #   Column           Non-Null Count  Dtype \n",
      "---  ------           --------------  ----- \n",
      " 0   name             51717 non-null  object\n",
      " 1   online_order     51717 non-null  object\n",
      " 2   book_table       51717 non-null  object\n",
      " 3   rate(5)          43942 non-null  object\n",
      " 4   votes            51717 non-null  int64 \n",
      " 5   phone            51717 non-null  object\n",
      " 6   rest_type        51717 non-null  object\n",
      " 7   dish_liked       51717 non-null  object\n",
      " 8   cuisines         51717 non-null  object\n",
      " 9   cost_for_two     51371 non-null  object\n",
      " 10  reviews_list     51717 non-null  object\n",
      " 11  Restaurant_type  51717 non-null  object\n",
      " 12  location         51717 non-null  object\n",
      "dtypes: int64(1), object(12)\n",
      "memory usage: 5.1+ MB\n"
     ]
    }
   ],
   "source": [
    "# Check data again after edtiting \n",
    "\n",
    "df.info()"
   ]
  },
  {
   "cell_type": "code",
   "execution_count": 14,
   "id": "f0a86a0a",
   "metadata": {},
   "outputs": [
    {
     "name": "stdout",
     "output_type": "stream",
     "text": [
      "0\n"
     ]
    }
   ],
   "source": [
    "# Check if there's duplictaed entries and remove them if exists\n",
    "\n",
    "print(df.duplicated().sum())\n",
    "df = df.drop_duplicates()"
   ]
  },
  {
   "cell_type": "code",
   "execution_count": 15,
   "id": "fa44c6f9",
   "metadata": {},
   "outputs": [
    {
     "name": "stdout",
     "output_type": "stream",
     "text": [
      "<class 'pandas.core.frame.DataFrame'>\n",
      "Int64Index: 51651 entries, 0 to 51716\n",
      "Data columns (total 13 columns):\n",
      " #   Column           Non-Null Count  Dtype \n",
      "---  ------           --------------  ----- \n",
      " 0   name             51651 non-null  object\n",
      " 1   online_order     51651 non-null  object\n",
      " 2   book_table       51651 non-null  object\n",
      " 3   rate(5)          43891 non-null  object\n",
      " 4   votes            51651 non-null  int64 \n",
      " 5   phone            51651 non-null  object\n",
      " 6   rest_type        51651 non-null  object\n",
      " 7   dish_liked       51651 non-null  object\n",
      " 8   cuisines         51651 non-null  object\n",
      " 9   cost_for_two     51306 non-null  object\n",
      " 10  reviews_list     51651 non-null  object\n",
      " 11  Restaurant_type  51651 non-null  object\n",
      " 12  location         51651 non-null  object\n",
      "dtypes: int64(1), object(12)\n",
      "memory usage: 5.5+ MB\n"
     ]
    }
   ],
   "source": [
    "df.info()"
   ]
  },
  {
   "cell_type": "code",
   "execution_count": 17,
   "id": "095d84cc",
   "metadata": {},
   "outputs": [
    {
     "data": {
      "text/plain": [
       "array(['4.1/5', '3.8/5', '3.7/5', '3.6/5', '4.6/5', '4.0/5', '4.2/5',\n",
       "       '3.9/5', '3.1/5', '3.0/5', '3.2/5', '3.3/5', '2.8/5', '4.4/5',\n",
       "       '4.3/5', 'NEW', '2.9/5', '3.5/5', nan, '2.6/5', '3.8 /5', '3.4/5',\n",
       "       '4.5/5', '2.5/5', '2.7/5', '4.7/5', '2.4/5', '2.2/5', '2.3/5',\n",
       "       '3.4 /5', '-', '3.6 /5', '4.8/5', '3.9 /5', '4.2 /5', '4.0 /5',\n",
       "       '4.1 /5', '3.7 /5', '3.1 /5', '2.9 /5', '3.3 /5', '2.8 /5',\n",
       "       '3.5 /5', '2.7 /5', '2.5 /5', '3.2 /5', '2.6 /5', '4.5 /5',\n",
       "       '4.3 /5', '4.4 /5', '4.9/5', '2.1/5', '2.0/5', '1.8/5', '4.6 /5',\n",
       "       '4.9 /5', '3.0 /5', '4.8 /5', '2.3 /5', '4.7 /5', '2.4 /5',\n",
       "       '2.1 /5', '2.2 /5', '2.0 /5', '1.8 /5'], dtype=object)"
      ]
     },
     "execution_count": 17,
     "metadata": {},
     "output_type": "execute_result"
    }
   ],
   "source": [
    "# check unique values of rating to check if it's 100% clear and clean\n",
    "\n",
    "df['rate(5)'].unique()\n"
   ]
  },
  {
   "cell_type": "markdown",
   "id": "ce23a37d",
   "metadata": {},
   "source": [
    "As we can see above, there are some outliers like **(-)** or **(NEW)** and some null values, so we need to change them, also remove **/5** from each value, to ease dealing with values as **numeric** values instead of **strings**"
   ]
  },
  {
   "cell_type": "code",
   "execution_count": 18,
   "id": "36a07c4a",
   "metadata": {},
   "outputs": [
    {
     "data": {
      "text/plain": [
       "array([4.1, 3.8, 3.7, 3.6, 4.6, 4. , 4.2, 3.9, 3.1, 3. , 3.2, 3.3, 2.8,\n",
       "       4.4, 4.3, 0. , 2.9, 3.5, nan, 2.6, 3.4, 4.5, 2.5, 2.7, 4.7, 2.4,\n",
       "       2.2, 2.3, 4.8, 4.9, 2.1, 2. , 1.8])"
      ]
     },
     "execution_count": 18,
     "metadata": {},
     "output_type": "execute_result"
    }
   ],
   "source": [
    "df['rate(5)'] = df['rate(5)'].str.replace('/5', '')\n",
    "df['rate(5)'] = df['rate(5)'].str.replace('NEW', '0')\n",
    "df['rate(5)'] = df['rate(5)'].str.replace('-','0')\n",
    "df['rate(5)'] = df['rate(5)'].str.replace('nan','0')\n",
    "\n",
    "df['rate(5)'] = pd.to_numeric(df['rate(5)'])\n",
    "df['rate(5)'].unique()"
   ]
  },
  {
   "cell_type": "code",
   "execution_count": 21,
   "id": "90beb411",
   "metadata": {},
   "outputs": [
    {
     "data": {
      "text/plain": [
       "array([4.1       , 3.8       , 3.7       , 3.6       , 4.6       ,\n",
       "       4.        , 4.2       , 3.9       , 3.1       , 3.        ,\n",
       "       3.2       , 3.3       , 2.8       , 4.4       , 4.3       ,\n",
       "       0.        , 2.9       , 3.5       , 3.50939373, 2.6       ,\n",
       "       3.4       , 4.5       , 2.5       , 2.7       , 4.7       ,\n",
       "       2.4       , 2.2       , 2.3       , 4.8       , 4.9       ,\n",
       "       2.1       , 2.        , 1.8       ])"
      ]
     },
     "execution_count": 21,
     "metadata": {},
     "output_type": "execute_result"
    }
   ],
   "source": [
    "# About null values ? fill them with mean rate of ratings \n",
    "\n",
    "df['rate(5)'].fillna(df['rate(5)'].mean(), inplace = True)\n",
    "df['rate(5)'].unique()"
   ]
  },
  {
   "cell_type": "code",
   "execution_count": 22,
   "id": "c19952c8",
   "metadata": {
    "scrolled": false
   },
   "outputs": [
    {
     "data": {
      "text/plain": [
       "array(['800', '300', '600', '700', '550', '500', '450', '650', '400',\n",
       "       '900', '200', '750', '150', '850', '100', '1,200', '350', '250',\n",
       "       '950', '1,000', '1,500', '1,300', '199', '80', '1,100', '160',\n",
       "       '1,600', '230', '130', '50', '190', '1,700', nan, '1,400', '180',\n",
       "       '1,350', '2,200', '2,000', '1,800', '1,900', '330', '2,500',\n",
       "       '2,100', '3,000', '2,800', '3,400', '40', '1,250', '3,500',\n",
       "       '4,000', '2,400', '2,600', '120', '1,450', '469', '70', '3,200',\n",
       "       '60', '560', '240', '360', '6,000', '1,050', '2,300', '4,100',\n",
       "       '5,000', '3,700', '1,650', '2,700', '4,500', '140'], dtype=object)"
      ]
     },
     "execution_count": 22,
     "metadata": {},
     "output_type": "execute_result"
    }
   ],
   "source": [
    "#Check the cost attribute to check if there's any problem.\n",
    "\n",
    "df['cost_for_two'].unique()"
   ]
  },
  {
   "cell_type": "markdown",
   "id": "a154d7c3",
   "metadata": {},
   "source": [
    "as we can see, there's wrong entry of numbers they put **,** for decimal instead of **.**\n",
    "We need to fix that."
   ]
  },
  {
   "cell_type": "code",
   "execution_count": 23,
   "id": "50e4b1b8",
   "metadata": {},
   "outputs": [
    {
     "data": {
      "text/plain": [
       "array(['800', '300', '600', '700', '550', '500', '450', '650', '400',\n",
       "       '900', '200', '750', '150', '850', '100', '1.200', '350', '250',\n",
       "       '950', '1.000', '1.500', '1.300', '199', '80', '1.100', '160',\n",
       "       '1.600', '230', '130', '50', '190', '1.700', nan, '1.400', '180',\n",
       "       '1.350', '2.200', '2.000', '1.800', '1.900', '330', '2.500',\n",
       "       '2.100', '3.000', '2.800', '3.400', '40', '1.250', '3.500',\n",
       "       '4.000', '2.400', '2.600', '120', '1.450', '469', '70', '3.200',\n",
       "       '60', '560', '240', '360', '6.000', '1.050', '2.300', '4.100',\n",
       "       '5.000', '3.700', '1.650', '2.700', '4.500', '140'], dtype=object)"
      ]
     },
     "execution_count": 23,
     "metadata": {},
     "output_type": "execute_result"
    }
   ],
   "source": [
    "df['cost_for_two'] = df['cost_for_two'].str.replace(',','.')\n",
    "df['cost_for_two'].unique()"
   ]
  },
  {
   "cell_type": "code",
   "execution_count": 28,
   "id": "b8882070",
   "metadata": {},
   "outputs": [
    {
     "name": "stdout",
     "output_type": "stream",
     "text": [
      "<class 'pandas.core.frame.DataFrame'>\n",
      "Int64Index: 51651 entries, 0 to 51716\n",
      "Data columns (total 13 columns):\n",
      " #   Column           Non-Null Count  Dtype  \n",
      "---  ------           --------------  -----  \n",
      " 0   name             51651 non-null  object \n",
      " 1   online_order     51651 non-null  object \n",
      " 2   book_table       51651 non-null  object \n",
      " 3   rate(5)          51651 non-null  float64\n",
      " 4   votes            51651 non-null  int64  \n",
      " 5   phone            51651 non-null  object \n",
      " 6   rest_type        51651 non-null  object \n",
      " 7   dish_liked       51651 non-null  object \n",
      " 8   cuisines         51651 non-null  object \n",
      " 9   cost_for_two     51651 non-null  float64\n",
      " 10  reviews_list     51651 non-null  object \n",
      " 11  Restaurant_type  51651 non-null  object \n",
      " 12  location         51651 non-null  object \n",
      "dtypes: float64(2), int64(1), object(10)\n",
      "memory usage: 5.5+ MB\n"
     ]
    }
   ],
   "source": [
    "# Convert the datatype to numeric type and check the data again\n",
    "\n",
    "df['cost_for_two'] = pd.to_numeric(df['cost_for_two'])\n",
    "df['cost_for_two'].fillna(df['cost_for_two'].mean(), inplace = True)\n",
    "df.info()"
   ]
  },
  {
   "cell_type": "code",
   "execution_count": 69,
   "id": "56c5ddb1",
   "metadata": {},
   "outputs": [],
   "source": [
    "'''\n",
    "there's null values in reviews column, I will fill them by the corresponding value of rating, \n",
    "if the rate above or equal 3.75 it will say good, OW bad\n",
    "'''\n",
    "\n",
    "df['reviews_list'] = df['reviews_list'].str.slice(25)\n",
    "counter = 0\n",
    "for i, j in zip(df['reviews_list'], df['rate(5)']):\n",
    "    if i == '':\n",
    "        if j >= 3:\n",
    "            df.loc[df.index[counter], 'reviews_list'] = 'good'\n",
    "        else:\n",
    "            df.loc[df.index[counter], 'reviews_list'] = 'bad'\n",
    "    counter += 1"
   ]
  },
  {
   "cell_type": "code",
   "execution_count": 70,
   "id": "0c4671d0",
   "metadata": {
    "scrolled": true
   },
   "outputs": [
    {
     "name": "stdout",
     "output_type": "stream",
     "text": [
      "name               0\n",
      "online_order       0\n",
      "book_table         0\n",
      "rate(5)            0\n",
      "votes              0\n",
      "phone              0\n",
      "rest_type          0\n",
      "dish_liked         0\n",
      "cuisines           0\n",
      "cost_for_two       0\n",
      "reviews_list       0\n",
      "Restaurant_type    0\n",
      "location           0\n",
      "dtype: int64\n"
     ]
    }
   ],
   "source": [
    "print(df.isnull().sum())\n"
   ]
  },
  {
   "cell_type": "code",
   "execution_count": 72,
   "id": "67869444",
   "metadata": {},
   "outputs": [
    {
     "data": {
      "text/html": [
       "<div>\n",
       "<style scoped>\n",
       "    .dataframe tbody tr th:only-of-type {\n",
       "        vertical-align: middle;\n",
       "    }\n",
       "\n",
       "    .dataframe tbody tr th {\n",
       "        vertical-align: top;\n",
       "    }\n",
       "\n",
       "    .dataframe thead th {\n",
       "        text-align: right;\n",
       "    }\n",
       "</style>\n",
       "<table border=\"1\" class=\"dataframe\">\n",
       "  <thead>\n",
       "    <tr style=\"text-align: right;\">\n",
       "      <th></th>\n",
       "      <th>name</th>\n",
       "      <th>online_order</th>\n",
       "      <th>book_table</th>\n",
       "      <th>rate(5)</th>\n",
       "      <th>votes</th>\n",
       "      <th>phone</th>\n",
       "      <th>rest_type</th>\n",
       "      <th>dish_liked</th>\n",
       "      <th>cuisines</th>\n",
       "      <th>cost_for_two</th>\n",
       "      <th>reviews_list</th>\n",
       "      <th>Restaurant_type</th>\n",
       "      <th>location</th>\n",
       "    </tr>\n",
       "  </thead>\n",
       "  <tbody>\n",
       "    <tr>\n",
       "      <th>0</th>\n",
       "      <td>Jalsa</td>\n",
       "      <td>Yes</td>\n",
       "      <td>Yes</td>\n",
       "      <td>4.1</td>\n",
       "      <td>775</td>\n",
       "      <td>080 42297555\\r\\n+91 9743772233</td>\n",
       "      <td>Casual Dining</td>\n",
       "      <td>Pasta, Lunch Buffet, Masala Papad, Paneer Laja...</td>\n",
       "      <td>North Indian, Mughlai, Chinese</td>\n",
       "      <td>800.0</td>\n",
       "      <td>in.The interiors take you back to the Mughal ...</td>\n",
       "      <td>Buffet</td>\n",
       "      <td>Banashankari</td>\n",
       "    </tr>\n",
       "    <tr>\n",
       "      <th>1</th>\n",
       "      <td>Spice Elephant</td>\n",
       "      <td>Yes</td>\n",
       "      <td>No</td>\n",
       "      <td>4.1</td>\n",
       "      <td>787</td>\n",
       "      <td>080 41714161</td>\n",
       "      <td>Casual Dining</td>\n",
       "      <td>Momos, Lunch Buffet, Chocolate Nirvana, Thai G...</td>\n",
       "      <td>Chinese, North Indian, Thai</td>\n",
       "      <td>800.0</td>\n",
       "      <td>with family. Turned out to be a good choose su...</td>\n",
       "      <td>Buffet</td>\n",
       "      <td>Banashankari</td>\n",
       "    </tr>\n",
       "    <tr>\n",
       "      <th>2</th>\n",
       "      <td>San Churro Cafe</td>\n",
       "      <td>Yes</td>\n",
       "      <td>No</td>\n",
       "      <td>3.8</td>\n",
       "      <td>918</td>\n",
       "      <td>+91 9663487993</td>\n",
       "      <td>Cafe, Casual Dining</td>\n",
       "      <td>Churros, Cannelloni, Minestrone Soup, Hot Choc...</td>\n",
       "      <td>Cafe, Mexican, Italian</td>\n",
       "      <td>800.0</td>\n",
       "      <td>enough and it's not a pocket friendly cafe an...</td>\n",
       "      <td>Buffet</td>\n",
       "      <td>Banashankari</td>\n",
       "    </tr>\n",
       "    <tr>\n",
       "      <th>3</th>\n",
       "      <td>Addhuri Udupi Bhojana</td>\n",
       "      <td>No</td>\n",
       "      <td>No</td>\n",
       "      <td>3.7</td>\n",
       "      <td>88</td>\n",
       "      <td>+91 9620009302</td>\n",
       "      <td>Quick Bites</td>\n",
       "      <td>Masala Dosa</td>\n",
       "      <td>South Indian, North Indian</td>\n",
       "      <td>300.0</td>\n",
       "      <td>nataka style full meals. Been there twice and ...</td>\n",
       "      <td>Buffet</td>\n",
       "      <td>Banashankari</td>\n",
       "    </tr>\n",
       "    <tr>\n",
       "      <th>4</th>\n",
       "      <td>Grand Village</td>\n",
       "      <td>No</td>\n",
       "      <td>No</td>\n",
       "      <td>3.8</td>\n",
       "      <td>166</td>\n",
       "      <td>+91 8026612447\\r\\n+91 9901210005</td>\n",
       "      <td>Casual Dining</td>\n",
       "      <td>Panipuri, Gol Gappe</td>\n",
       "      <td>North Indian, Rajasthani</td>\n",
       "      <td>600.0</td>\n",
       "      <td>eighbourhood. Buffet system is properly arrang...</td>\n",
       "      <td>Buffet</td>\n",
       "      <td>Banashankari</td>\n",
       "    </tr>\n",
       "    <tr>\n",
       "      <th>5</th>\n",
       "      <td>Timepass Dinner</td>\n",
       "      <td>Yes</td>\n",
       "      <td>No</td>\n",
       "      <td>3.8</td>\n",
       "      <td>286</td>\n",
       "      <td>+91 9980040002\\r\\n+91 9980063005</td>\n",
       "      <td>Casual Dining</td>\n",
       "      <td>Onion Rings, Pasta, Kadhai Paneer, Salads, Sal...</td>\n",
       "      <td>North Indian</td>\n",
       "      <td>600.0</td>\n",
       "      <td>ervice 3/5\\n\\nHad been here for family lunch. ...</td>\n",
       "      <td>Buffet</td>\n",
       "      <td>Banashankari</td>\n",
       "    </tr>\n",
       "    <tr>\n",
       "      <th>6</th>\n",
       "      <td>Rosewood International Hotel - Bar &amp; Restaurant</td>\n",
       "      <td>No</td>\n",
       "      <td>No</td>\n",
       "      <td>3.6</td>\n",
       "      <td>8</td>\n",
       "      <td>+91 9731716688\\r\\n080 26740366</td>\n",
       "      <td>Casual Dining</td>\n",
       "      <td>none</td>\n",
       "      <td>North Indian, South Indian, Andhra, Chinese</td>\n",
       "      <td>800.0</td>\n",
       "      <td>iceFriendly staffsGood quality of food\\n# Comp...</td>\n",
       "      <td>Buffet</td>\n",
       "      <td>Banashankari</td>\n",
       "    </tr>\n",
       "    <tr>\n",
       "      <th>7</th>\n",
       "      <td>Onesta</td>\n",
       "      <td>Yes</td>\n",
       "      <td>Yes</td>\n",
       "      <td>4.6</td>\n",
       "      <td>2556</td>\n",
       "      <td>080 48653961\\r\\n080 48655715</td>\n",
       "      <td>Casual Dining, Cafe</td>\n",
       "      <td>Farmhouse Pizza, Chocolate Banana, Virgin Moji...</td>\n",
       "      <td>Pizza, Cafe, Italian</td>\n",
       "      <td>600.0</td>\n",
       "      <td>this place ! The ambience with the rooftop , ...</td>\n",
       "      <td>Cafes</td>\n",
       "      <td>Banashankari</td>\n",
       "    </tr>\n",
       "    <tr>\n",
       "      <th>8</th>\n",
       "      <td>Penthouse Cafe</td>\n",
       "      <td>Yes</td>\n",
       "      <td>No</td>\n",
       "      <td>4.0</td>\n",
       "      <td>324</td>\n",
       "      <td>+91 8884135549\\r\\n+91 9449449316</td>\n",
       "      <td>Cafe</td>\n",
       "      <td>Pizza, Mocktails, Coffee, Nachos, Salad, Pasta...</td>\n",
       "      <td>Cafe, Italian, Continental</td>\n",
       "      <td>700.0</td>\n",
       "      <td>with one of my friends, it's a very small plac...</td>\n",
       "      <td>Cafes</td>\n",
       "      <td>Banashankari</td>\n",
       "    </tr>\n",
       "    <tr>\n",
       "      <th>9</th>\n",
       "      <td>Smacznego</td>\n",
       "      <td>Yes</td>\n",
       "      <td>No</td>\n",
       "      <td>4.2</td>\n",
       "      <td>504</td>\n",
       "      <td>+91 9945230807\\r\\n+91 9743804471</td>\n",
       "      <td>Cafe</td>\n",
       "      <td>Waffles, Pasta, Coleslaw Sandwich, Choco Waffl...</td>\n",
       "      <td>Cafe, Mexican, Italian, Momos, Beverages</td>\n",
       "      <td>550.0</td>\n",
       "      <td>\\nTaste 5/5\\nYummy cheesyyy fries ?\\nDelicious...</td>\n",
       "      <td>Cafes</td>\n",
       "      <td>Banashankari</td>\n",
       "    </tr>\n",
       "    <tr>\n",
       "      <th>10</th>\n",
       "      <td>CafÃÂÃÂÃÂÃÂÃÂÃÂÃÂÃÂ© Down The A...</td>\n",
       "      <td>Yes</td>\n",
       "      <td>No</td>\n",
       "      <td>4.1</td>\n",
       "      <td>402</td>\n",
       "      <td>080 26724489\\r\\n+91 7406048982</td>\n",
       "      <td>Cafe</td>\n",
       "      <td>Waffles, Pasta, Crispy Chicken, Honey Chilli C...</td>\n",
       "      <td>Cafe</td>\n",
       "      <td>500.0</td>\n",
       "      <td>urday afternoon after an hectic day\\nThe food ...</td>\n",
       "      <td>Cafes</td>\n",
       "      <td>Banashankari</td>\n",
       "    </tr>\n",
       "    <tr>\n",
       "      <th>11</th>\n",
       "      <td>Cafe Shuffle</td>\n",
       "      <td>Yes</td>\n",
       "      <td>Yes</td>\n",
       "      <td>4.2</td>\n",
       "      <td>150</td>\n",
       "      <td>+91 9742166777</td>\n",
       "      <td>Cafe</td>\n",
       "      <td>Mocktails, Peri Fries, Lasagne, Pizza, Chicken...</td>\n",
       "      <td>Cafe, Italian, Continental</td>\n",
       "      <td>600.0</td>\n",
       "      <td>ding. We ordered BBQ chicken wings and chef's ...</td>\n",
       "      <td>Cafes</td>\n",
       "      <td>Banashankari</td>\n",
       "    </tr>\n",
       "    <tr>\n",
       "      <th>12</th>\n",
       "      <td>The Coffee Shack</td>\n",
       "      <td>Yes</td>\n",
       "      <td>Yes</td>\n",
       "      <td>4.2</td>\n",
       "      <td>164</td>\n",
       "      <td>+91 9731644212</td>\n",
       "      <td>Cafe</td>\n",
       "      <td>Coffee, Spaghetti, Pancakes, Nachos, Pasta, Sa...</td>\n",
       "      <td>Cafe, Chinese, Continental, Italian</td>\n",
       "      <td>500.0</td>\n",
       "      <td>5/5\\nService - 3/5\\n\\nEasily the best cafÃ\\x8...</td>\n",
       "      <td>Cafes</td>\n",
       "      <td>Banashankari</td>\n",
       "    </tr>\n",
       "    <tr>\n",
       "      <th>13</th>\n",
       "      <td>Caf-Eleven</td>\n",
       "      <td>No</td>\n",
       "      <td>No</td>\n",
       "      <td>4.0</td>\n",
       "      <td>424</td>\n",
       "      <td>080 49577715</td>\n",
       "      <td>Cafe</td>\n",
       "      <td>Sandwich, Omelette, Ice Tea, Virgin Mojito, Ho...</td>\n",
       "      <td>Cafe, Continental</td>\n",
       "      <td>450.0</td>\n",
       "      <td>was not mentioned anywhere in the page that i...</td>\n",
       "      <td>Cafes</td>\n",
       "      <td>Banashankari</td>\n",
       "    </tr>\n",
       "    <tr>\n",
       "      <th>14</th>\n",
       "      <td>San Churro Cafe</td>\n",
       "      <td>Yes</td>\n",
       "      <td>No</td>\n",
       "      <td>3.8</td>\n",
       "      <td>918</td>\n",
       "      <td>+91 9663487993</td>\n",
       "      <td>Cafe, Casual Dining</td>\n",
       "      <td>Churros, Cannelloni, Minestrone Soup, Hot Choc...</td>\n",
       "      <td>Cafe, Mexican, Italian</td>\n",
       "      <td>800.0</td>\n",
       "      <td>enough and it's not a pocket friendly cafe an...</td>\n",
       "      <td>Cafes</td>\n",
       "      <td>Banashankari</td>\n",
       "    </tr>\n",
       "    <tr>\n",
       "      <th>15</th>\n",
       "      <td>Cafe Vivacity</td>\n",
       "      <td>Yes</td>\n",
       "      <td>No</td>\n",
       "      <td>3.8</td>\n",
       "      <td>90</td>\n",
       "      <td>080 26768182\\r\\n+91 9845704455</td>\n",
       "      <td>Cafe</td>\n",
       "      <td>Garlic Bread, Burgers, Sandwiches, Pizza, Hot ...</td>\n",
       "      <td>Cafe</td>\n",
       "      <td>650.0</td>\n",
       "      <td>s expecting from here. The ambience is quite o...</td>\n",
       "      <td>Cafes</td>\n",
       "      <td>Banashankari</td>\n",
       "    </tr>\n",
       "    <tr>\n",
       "      <th>16</th>\n",
       "      <td>Catch-up-ino</td>\n",
       "      <td>Yes</td>\n",
       "      <td>No</td>\n",
       "      <td>3.9</td>\n",
       "      <td>133</td>\n",
       "      <td>+91 9972988038\\r\\n+91 9900121238</td>\n",
       "      <td>Cafe</td>\n",
       "      <td>Momos, Mushroom Bruschettas, Jalapeno Cheeseba...</td>\n",
       "      <td>Cafe, Fast Food, Continental, Chinese, Momos</td>\n",
       "      <td>800.0</td>\n",
       "      <td>ite to the theatre and remember you'll have to...</td>\n",
       "      <td>Cafes</td>\n",
       "      <td>Banashankari</td>\n",
       "    </tr>\n",
       "    <tr>\n",
       "      <th>17</th>\n",
       "      <td>Kirthi's Biryani</td>\n",
       "      <td>Yes</td>\n",
       "      <td>No</td>\n",
       "      <td>3.8</td>\n",
       "      <td>144</td>\n",
       "      <td>080 26711554\\r\\n+91 9741406338</td>\n",
       "      <td>Cafe</td>\n",
       "      <td>Pasta, Gelato, Garlic Bread, Mojito, Nachos, P...</td>\n",
       "      <td>Chinese, Cafe, Italian</td>\n",
       "      <td>700.0</td>\n",
       "      <td>biryani place,I tried Chinese food. Best thin...</td>\n",
       "      <td>Cafes</td>\n",
       "      <td>Banashankari</td>\n",
       "    </tr>\n",
       "    <tr>\n",
       "      <th>18</th>\n",
       "      <td>T3H Cafe</td>\n",
       "      <td>No</td>\n",
       "      <td>No</td>\n",
       "      <td>3.9</td>\n",
       "      <td>93</td>\n",
       "      <td>+91 8884726600</td>\n",
       "      <td>Cafe</td>\n",
       "      <td>Cheese Maggi, Peri Peri Fries, Pasta Arrabiata</td>\n",
       "      <td>Cafe, Italian, American</td>\n",
       "      <td>300.0</td>\n",
       "      <td>nearby to our house. It's not in bsk actually....</td>\n",
       "      <td>Cafes</td>\n",
       "      <td>Banashankari</td>\n",
       "    </tr>\n",
       "    <tr>\n",
       "      <th>19</th>\n",
       "      <td>360 Atoms Restaurant And Cafe</td>\n",
       "      <td>Yes</td>\n",
       "      <td>No</td>\n",
       "      <td>3.1</td>\n",
       "      <td>13</td>\n",
       "      <td>+91 9880594520</td>\n",
       "      <td>Cafe</td>\n",
       "      <td>none</td>\n",
       "      <td>Cafe, Chinese, Continental, Italian</td>\n",
       "      <td>400.0</td>\n",
       "      <td>bience colourful lights , hanging skeletons re...</td>\n",
       "      <td>Cafes</td>\n",
       "      <td>Banashankari</td>\n",
       "    </tr>\n",
       "  </tbody>\n",
       "</table>\n",
       "</div>"
      ],
      "text/plain": [
       "                                                 name online_order book_table  \\\n",
       "0                                               Jalsa          Yes        Yes   \n",
       "1                                      Spice Elephant          Yes         No   \n",
       "2                                     San Churro Cafe          Yes         No   \n",
       "3                               Addhuri Udupi Bhojana           No         No   \n",
       "4                                       Grand Village           No         No   \n",
       "5                                     Timepass Dinner          Yes         No   \n",
       "6     Rosewood International Hotel - Bar & Restaurant           No         No   \n",
       "7                                              Onesta          Yes        Yes   \n",
       "8                                      Penthouse Cafe          Yes         No   \n",
       "9                                           Smacznego          Yes         No   \n",
       "10  CafÃÂÃÂÃÂÃÂÃÂÃÂÃÂÃÂ© Down The A...          Yes         No   \n",
       "11                                       Cafe Shuffle          Yes        Yes   \n",
       "12                                   The Coffee Shack          Yes        Yes   \n",
       "13                                         Caf-Eleven           No         No   \n",
       "14                                    San Churro Cafe          Yes         No   \n",
       "15                                      Cafe Vivacity          Yes         No   \n",
       "16                                       Catch-up-ino          Yes         No   \n",
       "17                                   Kirthi's Biryani          Yes         No   \n",
       "18                                           T3H Cafe           No         No   \n",
       "19                      360 Atoms Restaurant And Cafe          Yes         No   \n",
       "\n",
       "    rate(5)  votes                             phone            rest_type  \\\n",
       "0       4.1    775    080 42297555\\r\\n+91 9743772233        Casual Dining   \n",
       "1       4.1    787                      080 41714161        Casual Dining   \n",
       "2       3.8    918                    +91 9663487993  Cafe, Casual Dining   \n",
       "3       3.7     88                    +91 9620009302          Quick Bites   \n",
       "4       3.8    166  +91 8026612447\\r\\n+91 9901210005        Casual Dining   \n",
       "5       3.8    286  +91 9980040002\\r\\n+91 9980063005        Casual Dining   \n",
       "6       3.6      8    +91 9731716688\\r\\n080 26740366        Casual Dining   \n",
       "7       4.6   2556      080 48653961\\r\\n080 48655715  Casual Dining, Cafe   \n",
       "8       4.0    324  +91 8884135549\\r\\n+91 9449449316                 Cafe   \n",
       "9       4.2    504  +91 9945230807\\r\\n+91 9743804471                 Cafe   \n",
       "10      4.1    402    080 26724489\\r\\n+91 7406048982                 Cafe   \n",
       "11      4.2    150                    +91 9742166777                 Cafe   \n",
       "12      4.2    164                    +91 9731644212                 Cafe   \n",
       "13      4.0    424                      080 49577715                 Cafe   \n",
       "14      3.8    918                    +91 9663487993  Cafe, Casual Dining   \n",
       "15      3.8     90    080 26768182\\r\\n+91 9845704455                 Cafe   \n",
       "16      3.9    133  +91 9972988038\\r\\n+91 9900121238                 Cafe   \n",
       "17      3.8    144    080 26711554\\r\\n+91 9741406338                 Cafe   \n",
       "18      3.9     93                    +91 8884726600                 Cafe   \n",
       "19      3.1     13                    +91 9880594520                 Cafe   \n",
       "\n",
       "                                           dish_liked  \\\n",
       "0   Pasta, Lunch Buffet, Masala Papad, Paneer Laja...   \n",
       "1   Momos, Lunch Buffet, Chocolate Nirvana, Thai G...   \n",
       "2   Churros, Cannelloni, Minestrone Soup, Hot Choc...   \n",
       "3                                         Masala Dosa   \n",
       "4                                 Panipuri, Gol Gappe   \n",
       "5   Onion Rings, Pasta, Kadhai Paneer, Salads, Sal...   \n",
       "6                                                none   \n",
       "7   Farmhouse Pizza, Chocolate Banana, Virgin Moji...   \n",
       "8   Pizza, Mocktails, Coffee, Nachos, Salad, Pasta...   \n",
       "9   Waffles, Pasta, Coleslaw Sandwich, Choco Waffl...   \n",
       "10  Waffles, Pasta, Crispy Chicken, Honey Chilli C...   \n",
       "11  Mocktails, Peri Fries, Lasagne, Pizza, Chicken...   \n",
       "12  Coffee, Spaghetti, Pancakes, Nachos, Pasta, Sa...   \n",
       "13  Sandwich, Omelette, Ice Tea, Virgin Mojito, Ho...   \n",
       "14  Churros, Cannelloni, Minestrone Soup, Hot Choc...   \n",
       "15  Garlic Bread, Burgers, Sandwiches, Pizza, Hot ...   \n",
       "16  Momos, Mushroom Bruschettas, Jalapeno Cheeseba...   \n",
       "17  Pasta, Gelato, Garlic Bread, Mojito, Nachos, P...   \n",
       "18     Cheese Maggi, Peri Peri Fries, Pasta Arrabiata   \n",
       "19                                               none   \n",
       "\n",
       "                                        cuisines  cost_for_two  \\\n",
       "0                 North Indian, Mughlai, Chinese         800.0   \n",
       "1                    Chinese, North Indian, Thai         800.0   \n",
       "2                         Cafe, Mexican, Italian         800.0   \n",
       "3                     South Indian, North Indian         300.0   \n",
       "4                       North Indian, Rajasthani         600.0   \n",
       "5                                   North Indian         600.0   \n",
       "6    North Indian, South Indian, Andhra, Chinese         800.0   \n",
       "7                           Pizza, Cafe, Italian         600.0   \n",
       "8                     Cafe, Italian, Continental         700.0   \n",
       "9       Cafe, Mexican, Italian, Momos, Beverages         550.0   \n",
       "10                                          Cafe         500.0   \n",
       "11                    Cafe, Italian, Continental         600.0   \n",
       "12           Cafe, Chinese, Continental, Italian         500.0   \n",
       "13                             Cafe, Continental         450.0   \n",
       "14                        Cafe, Mexican, Italian         800.0   \n",
       "15                                          Cafe         650.0   \n",
       "16  Cafe, Fast Food, Continental, Chinese, Momos         800.0   \n",
       "17                        Chinese, Cafe, Italian         700.0   \n",
       "18                       Cafe, Italian, American         300.0   \n",
       "19           Cafe, Chinese, Continental, Italian         400.0   \n",
       "\n",
       "                                         reviews_list Restaurant_type  \\\n",
       "0    in.The interiors take you back to the Mughal ...          Buffet   \n",
       "1   with family. Turned out to be a good choose su...          Buffet   \n",
       "2    enough and it's not a pocket friendly cafe an...          Buffet   \n",
       "3   nataka style full meals. Been there twice and ...          Buffet   \n",
       "4   eighbourhood. Buffet system is properly arrang...          Buffet   \n",
       "5   ervice 3/5\\n\\nHad been here for family lunch. ...          Buffet   \n",
       "6   iceFriendly staffsGood quality of food\\n# Comp...          Buffet   \n",
       "7    this place ! The ambience with the rooftop , ...           Cafes   \n",
       "8   with one of my friends, it's a very small plac...           Cafes   \n",
       "9   \\nTaste 5/5\\nYummy cheesyyy fries ?\\nDelicious...           Cafes   \n",
       "10  urday afternoon after an hectic day\\nThe food ...           Cafes   \n",
       "11  ding. We ordered BBQ chicken wings and chef's ...           Cafes   \n",
       "12  5/5\\nService - 3/5\\n\\nEasily the best cafÃ\\x8...           Cafes   \n",
       "13   was not mentioned anywhere in the page that i...           Cafes   \n",
       "14   enough and it's not a pocket friendly cafe an...           Cafes   \n",
       "15  s expecting from here. The ambience is quite o...           Cafes   \n",
       "16  ite to the theatre and remember you'll have to...           Cafes   \n",
       "17   biryani place,I tried Chinese food. Best thin...           Cafes   \n",
       "18  nearby to our house. It's not in bsk actually....           Cafes   \n",
       "19  bience colourful lights , hanging skeletons re...           Cafes   \n",
       "\n",
       "        location  \n",
       "0   Banashankari  \n",
       "1   Banashankari  \n",
       "2   Banashankari  \n",
       "3   Banashankari  \n",
       "4   Banashankari  \n",
       "5   Banashankari  \n",
       "6   Banashankari  \n",
       "7   Banashankari  \n",
       "8   Banashankari  \n",
       "9   Banashankari  \n",
       "10  Banashankari  \n",
       "11  Banashankari  \n",
       "12  Banashankari  \n",
       "13  Banashankari  \n",
       "14  Banashankari  \n",
       "15  Banashankari  \n",
       "16  Banashankari  \n",
       "17  Banashankari  \n",
       "18  Banashankari  \n",
       "19  Banashankari  "
      ]
     },
     "execution_count": 72,
     "metadata": {},
     "output_type": "execute_result"
    }
   ],
   "source": [
    "df.head(20)"
   ]
  },
  {
   "cell_type": "markdown",
   "id": "ceb3869e",
   "metadata": {},
   "source": [
    "# Now the data is clear and clean, let's go for analysis"
   ]
  },
  {
   "cell_type": "code",
   "execution_count": 225,
   "id": "ab4d3d09",
   "metadata": {},
   "outputs": [],
   "source": [
    "# Save the new cleaned data \n",
    "\n",
    "df.to_csv('new_data.csv')"
   ]
  },
  {
   "cell_type": "markdown",
   "id": "6f5d79c2",
   "metadata": {},
   "source": [
    "# Analysis process"
   ]
  },
  {
   "cell_type": "markdown",
   "id": "5834330e",
   "metadata": {},
   "source": [
    "# Univariate analysis question:\n",
    "\n",
    "    1- what's the percentage of resturants that make online order? categories (0 or 1)\n",
    "    2- what's the percentage of resturants that can book tables? (0 for no) (1 for yes)\n",
    "    3- what's the most frequent type of returants types ?    \n",
    "    4- What's the distribution of rating ?\n",
    "    5- what's the statistic summary of cost ?    \n",
    "    6- what's the statistic summary of rating?"
   ]
  },
  {
   "cell_type": "markdown",
   "id": "94dea2af",
   "metadata": {},
   "source": [
    "# Bivariate analysis:\n",
    "\n",
    "    1- What's the correlation between the features ?\n",
    "    2- Does the acceptance of online orders affect the average cost for two people?\n",
    "    3- Is there relationship between table booking and the restaurant rating?\n",
    "    4- How does the number of votes affect the rating\n",
    "    5- Does the acceptance of online orders affect the average rate?"
   ]
  },
  {
   "cell_type": "markdown",
   "id": "397d0604",
   "metadata": {},
   "source": [
    "# First: Univariate analysis "
   ]
  },
  {
   "cell_type": "markdown",
   "id": "a0d68a81",
   "metadata": {},
   "source": [
    "1- what's the percentage of resturants that make online order? categories (0 or 1)"
   ]
  },
  {
   "cell_type": "code",
   "execution_count": 73,
   "id": "f7a09d8e",
   "metadata": {},
   "outputs": [
    {
     "data": {
      "image/png": "[encoded data removed]",
      "text/plain": [
       "<Figure size 300x300 with 1 Axes>"
      ]
     },
     "metadata": {},
     "output_type": "display_data"
    }
   ],
   "source": [
    "order_counts = df['online_order'].value_counts()\n",
    "\n",
    "order_counts.plot(kind='pie', figsize=(3, 3), autopct='%1.2f%%', startangle=90)\n",
    "\n",
    "plt.title(\"Percentage of resturants that make online order\")\n",
    "\n",
    "plt.show()"
   ]
  },
  {
   "cell_type": "markdown",
   "id": "5cf8f04f",
   "metadata": {},
   "source": [
    "Conclusion: almost of the restaurants have the option to online order by (58.84%) and (41.16%) haven't"
   ]
  },
  {
   "cell_type": "markdown",
   "id": "c479d6b7",
   "metadata": {},
   "source": [
    "2- what's the percentage of restaurants that can book tables? (0 for no) (1 for yes)"
   ]
  },
  {
   "cell_type": "code",
   "execution_count": 74,
   "id": "978d49c1",
   "metadata": {},
   "outputs": [
    {
     "data": {
      "image/png": "[encoded data removed]",
      "text/plain": [
       "<Figure size 400x400 with 1 Axes>"
      ]
     },
     "metadata": {},
     "output_type": "display_data"
    }
   ],
   "source": [
    "order_counts = df['book_table'].value_counts()\n",
    "\n",
    "order_counts.plot(kind='pie', figsize=(4, 4), autopct='%1.2f%%', startangle=90)\n",
    "\n",
    "plt.title(\"Percentage of resturants that can book tables\")\n",
    "\n",
    "plt.show()"
   ]
  },
  {
   "cell_type": "markdown",
   "id": "01883626",
   "metadata": {},
   "source": [
    "Conclusion: big percentage of the restaurants haven't the option to book table by (87.54%) and (12.46%) can."
   ]
  },
  {
   "cell_type": "markdown",
   "id": "8a6b06c5",
   "metadata": {},
   "source": [
    "3- what's the most frequent type of restaurants types ?"
   ]
  },
  {
   "cell_type": "code",
   "execution_count": 75,
   "id": "bc898044",
   "metadata": {
    "scrolled": true
   },
   "outputs": [
    {
     "data": {
      "image/png": "[encoded data removed]",
      "text/plain": [
       "<Figure size 3000x900 with 1 Axes>"
      ]
     },
     "metadata": {},
     "output_type": "display_data"
    }
   ],
   "source": [
    "list_type_counts = df['Restaurant_type'].value_counts()\n",
    "\n",
    "ax = list_type_counts.plot(kind='bar', figsize=(30, 9), color='b')\n",
    "\n",
    "ax.tick_params(axis='x', labelsize=20)\n",
    "ax.tick_params(axis='y', labelsize=20)\n",
    "\n",
    "plt.title(\"Restuarants types Distribution\", fontsize=30)\n",
    "plt.xticks(rotation=0)\n",
    "\n",
    "\n",
    "plt.show()"
   ]
  },
  {
   "cell_type": "markdown",
   "id": "89e6ee98",
   "metadata": {},
   "source": [
    "Conclusion: The most appeared types of restaurants is delievery then dine out restaurants, the other types are rarely appeared, we can conclude that thery are not preferred or liked by people, they focus on delievery and dine out "
   ]
  },
  {
   "cell_type": "markdown",
   "id": "70712e9f",
   "metadata": {},
   "source": [
    "4- What's the distribution of rating ?"
   ]
  },
  {
   "cell_type": "code",
   "execution_count": 76,
   "id": "ac2a5501",
   "metadata": {},
   "outputs": [
    {
     "data": {
      "text/plain": [
       "Text(0, 0.5, 'Count')"
      ]
     },
     "execution_count": 76,
     "metadata": {},
     "output_type": "execute_result"
    },
    {
     "data": {
      "image/png": "[encoded data removed]",
      "text/plain": [
       "<Figure size 1500x500 with 1 Axes>"
      ]
     },
     "metadata": {},
     "output_type": "display_data"
    }
   ],
   "source": [
    "df[\"rate(5)\"].hist(figsize = (15,5) ,bins = 50)\n",
    "plt.xlabel(\"Ratings\")\n",
    "plt.ylabel(\"Count\")"
   ]
  },
  {
   "cell_type": "markdown",
   "id": "55d93b78",
   "metadata": {},
   "source": [
    "Conclusion: As we can see that the rates are left skewed, the most frequent rates varies from more than 2 and less than 5, and 0 rates they are outlier but it's important as it's more than 2000 zero rates"
   ]
  },
  {
   "cell_type": "markdown",
   "id": "005c9745",
   "metadata": {},
   "source": [
    "5- what's the statistic summary of cost ?"
   ]
  },
  {
   "cell_type": "code",
   "execution_count": 77,
   "id": "07001bd4",
   "metadata": {
    "scrolled": true
   },
   "outputs": [
    {
     "data": {
      "image/png": "[encoded data removed]",
      "text/plain": [
       "<Figure size 600x400 with 1 Axes>"
      ]
     },
     "metadata": {},
     "output_type": "display_data"
    }
   ],
   "source": [
    "ax = df['cost_for_two'].plot(kind='box', figsize=(6, 4))\n",
    "\n",
    "# Set the y-axis ticks and labels\n",
    "ax.set_yticks(range(0, int(df['cost_for_two'].max()) + 1, 100))\n",
    "ax.set_yticklabels(range(0, int(df['cost_for_two'].max()) + 1, 100), fontsize=8)\n",
    "\n",
    "# Add a title and y-axis label\n",
    "plt.title('The Five Number Summary of the Cost')\n",
    "plt.ylabel('Cost for Two Persons')\n",
    "\n",
    "# Display the chart\n",
    "plt.show()"
   ]
  },
  {
   "cell_type": "markdown",
   "id": "7512e9e1",
   "metadata": {},
   "source": [
    "Conclusion: Almost the median cost is 350, There's a big difference between the IQR 2 and max value."
   ]
  },
  {
   "cell_type": "markdown",
   "id": "d22d6d3a",
   "metadata": {},
   "source": [
    "6- what's the statistical summary of rating ?"
   ]
  },
  {
   "cell_type": "code",
   "execution_count": 78,
   "id": "e36510d2",
   "metadata": {
    "scrolled": true
   },
   "outputs": [
    {
     "data": {
      "text/plain": [
       "count    51651.000000\n",
       "mean         3.509394\n",
       "std          0.852315\n",
       "min          0.000000\n",
       "25%          3.400000\n",
       "50%          3.600000\n",
       "75%          3.900000\n",
       "max          4.900000\n",
       "Name: rate(5), dtype: float64"
      ]
     },
     "execution_count": 78,
     "metadata": {},
     "output_type": "execute_result"
    }
   ],
   "source": [
    "df['rate(5)'].describe()"
   ]
  },
  {
   "cell_type": "markdown",
   "id": "124d182c",
   "metadata": {},
   "source": [
    "# Second: Bivariate analysis:\n",
    "\n",
    "1- What's the correlation between the features ?"
   ]
  },
  {
   "cell_type": "code",
   "execution_count": 79,
   "id": "d9a74fbe",
   "metadata": {
    "scrolled": false
   },
   "outputs": [
    {
     "data": {
      "image/png": "[encoded data removed]",
      "text/plain": [
       "<Figure size 640x480 with 2 Axes>"
      ]
     },
     "metadata": {},
     "output_type": "display_data"
    }
   ],
   "source": [
    "corr_matrix = df.corr()\n",
    "\n",
    "fig, ax = plt.subplots()\n",
    "\n",
    "sns.heatmap(corr_matrix, annot=True, cmap='coolwarm', ax=ax)\n",
    "\n",
    "ax.set_title('Correlation matrix for columns')\n",
    "plt.show()"
   ]
  },
  {
   "cell_type": "markdown",
   "id": "20b02e4c",
   "metadata": {},
   "source": [
    "Conclusion: As we can see above, There's no correlation between the columns, They are independent somehow."
   ]
  },
  {
   "cell_type": "markdown",
   "id": "543fc3b7",
   "metadata": {},
   "source": [
    "2- Does the acceptance of online orders affect the average cost for two people?\n"
   ]
  },
  {
   "cell_type": "code",
   "execution_count": 80,
   "id": "0aca6c95",
   "metadata": {
    "scrolled": true
   },
   "outputs": [
    {
     "data": {
      "image/png": "[encoded data removed]",
      "text/plain": [
       "<Figure size 640x480 with 1 Axes>"
      ]
     },
     "metadata": {},
     "output_type": "display_data"
    }
   ],
   "source": [
    "sns.boxplot(data=df, x='online_order', y='cost_for_two')\n",
    "plt.xlabel('Online Order')\n",
    "plt.ylabel('Approximate Cost for Two People')\n",
    "plt.title('Impact of Online Order on Cost')\n",
    "plt.show()"
   ]
  },
  {
   "cell_type": "markdown",
   "id": "9c29014e",
   "metadata": {},
   "source": [
    "conclusion: If the restaurants has option to order online, it increases the cost somehow as it's appeared in the orange box plot"
   ]
  },
  {
   "cell_type": "markdown",
   "id": "63dd4b03",
   "metadata": {},
   "source": [
    "3- Is there relationship between table booking and the restaurant rating?"
   ]
  },
  {
   "cell_type": "code",
   "execution_count": 81,
   "id": "cbcbfc65",
   "metadata": {
    "scrolled": false
   },
   "outputs": [
    {
     "data": {
      "image/png": "[encoded data removed]",
      "text/plain": [
       "<Figure size 640x480 with 1 Axes>"
      ]
     },
     "metadata": {},
     "output_type": "display_data"
    }
   ],
   "source": [
    "sns.boxplot(data=df, x='book_table', y='rate(5)')\n",
    "plt.xlabel('Table Booking')\n",
    "plt.ylabel('Restaurant Rating')\n",
    "plt.title('Impact of Table Booking on Rating')\n",
    "plt.show()"
   ]
  },
  {
   "cell_type": "markdown",
   "id": "fbb8ae00",
   "metadata": {},
   "source": [
    "conclusion: If the resturant has option to book table, it increases the rating  as it's appeared in the orange box plot, it increased over 4"
   ]
  },
  {
   "cell_type": "markdown",
   "id": "c140479e",
   "metadata": {},
   "source": [
    "4- How does the number of votes affect the rating"
   ]
  },
  {
   "cell_type": "code",
   "execution_count": 82,
   "id": "706ba915",
   "metadata": {
    "scrolled": true
   },
   "outputs": [
    {
     "data": {
      "image/png": "[encoded data removed]",
      "text/plain": [
       "<Figure size 640x480 with 1 Axes>"
      ]
     },
     "metadata": {},
     "output_type": "display_data"
    }
   ],
   "source": [
    "sns.scatterplot(data=df, y='votes', x='rate(5)')\n",
    "plt.ylabel('Number of Votes')\n",
    "plt.xlabel('Restaurant Rating')\n",
    "plt.title('Correlation between Votes and Rating')\n",
    "plt.show()\n"
   ]
  },
  {
   "cell_type": "markdown",
   "id": "1e7ade6c",
   "metadata": {},
   "source": [
    "conclusion: As we can see that the more number of votes doesn't affect the rating we recieve."
   ]
  },
  {
   "cell_type": "markdown",
   "id": "5bcc548e",
   "metadata": {},
   "source": [
    "5- Does the acceptance of online orders affect the average rate?"
   ]
  },
  {
   "cell_type": "code",
   "execution_count": 83,
   "id": "2d7e506e",
   "metadata": {
    "scrolled": true
   },
   "outputs": [
    {
     "data": {
      "image/png": "[encoded data removed]",
      "text/plain": [
       "<Figure size 640x480 with 1 Axes>"
      ]
     },
     "metadata": {},
     "output_type": "display_data"
    }
   ],
   "source": [
    "sns.boxplot(data=df, x='online_order', y='rate(5)')\n",
    "plt.xlabel('Online Order')\n",
    "plt.ylabel('Rating')\n",
    "plt.title('Impact of Online Order on Cost')\n",
    "plt.show()"
   ]
  },
  {
   "cell_type": "markdown",
   "id": "7a3f0264",
   "metadata": {},
   "source": [
    "conclusion: The option of online order affects the rate of resturant but with very small influency."
   ]
  },
  {
   "cell_type": "markdown",
   "id": "a5c6e05c",
   "metadata": {},
   "source": [
    "# It's time for training a classification model."
   ]
  },
  {
   "cell_type": "code",
   "execution_count": 107,
   "id": "7cdc916f",
   "metadata": {},
   "outputs": [],
   "source": [
    "# Create the target column\n",
    "df['target'] = df['rate(5)'].apply(lambda x: 1 if x >= 3.75 else 0)"
   ]
  },
  {
   "cell_type": "code",
   "execution_count": 114,
   "id": "7c360ef6",
   "metadata": {},
   "outputs": [
    {
     "data": {
      "text/plain": [
       "<AxesSubplot:xlabel='target', ylabel='count'>"
      ]
     },
     "execution_count": 114,
     "metadata": {},
     "output_type": "execute_result"
    },
    {
     "data": {
      "image/png": "[encoded data removed]",
      "text/plain": [
       "<Figure size 640x480 with 1 Axes>"
      ]
     },
     "metadata": {},
     "output_type": "display_data"
    }
   ],
   "source": [
    "sns.countplot(x = \"target\" , data = df)"
   ]
  },
  {
   "cell_type": "code",
   "execution_count": 115,
   "id": "1dd7be23",
   "metadata": {},
   "outputs": [],
   "source": [
    "from sklearn.feature_extraction.text import TfidfVectorizer\n",
    "from sklearn.linear_model import LogisticRegression\n",
    "from sklearn.model_selection import train_test_split\n",
    "from sklearn.metrics import accuracy_score, precision_score, recall_score\n",
    "import seaborn as sns\n",
    "import re"
   ]
  },
  {
   "cell_type": "code",
   "execution_count": 120,
   "id": "dd55ac76",
   "metadata": {},
   "outputs": [],
   "source": [
    "one = df.target.value_counts()[1]\n",
    "zero = df[df['target'] == 0].sample(one, replace=False)\n",
    "ones = df[df['target'] == 1].sample(one, replace=False)\n",
    "data_balanced = pd.concat([ones, zero])"
   ]
  },
  {
   "cell_type": "code",
   "execution_count": 117,
   "id": "0f49a1a1",
   "metadata": {
    "scrolled": true
   },
   "outputs": [
    {
     "data": {
      "text/plain": [
       "<AxesSubplot:xlabel='target', ylabel='count'>"
      ]
     },
     "execution_count": 117,
     "metadata": {},
     "output_type": "execute_result"
    },
    {
     "data": {
      "image/png": "[encoded data removed]",
      "text/plain": [
       "<Figure size 640x480 with 1 Axes>"
      ]
     },
     "metadata": {},
     "output_type": "display_data"
    }
   ],
   "source": [
    "sns.countplot(x = \"target\" , data = data_balanced)"
   ]
  },
  {
   "cell_type": "code",
   "execution_count": 121,
   "id": "53015b91",
   "metadata": {},
   "outputs": [
    {
     "name": "stderr",
     "output_type": "stream",
     "text": [
      "[nltk_data] Downloading package stopwords to\n",
      "[nltk_data]     C:\\Users\\ziad_\\AppData\\Roaming\\nltk_data...\n",
      "[nltk_data]   Package stopwords is already up-to-date!\n"
     ]
    },
    {
     "data": {
      "text/html": [
       "<div>\n",
       "<style scoped>\n",
       "    .dataframe tbody tr th:only-of-type {\n",
       "        vertical-align: middle;\n",
       "    }\n",
       "\n",
       "    .dataframe tbody tr th {\n",
       "        vertical-align: top;\n",
       "    }\n",
       "\n",
       "    .dataframe thead th {\n",
       "        text-align: right;\n",
       "    }\n",
       "</style>\n",
       "<table border=\"1\" class=\"dataframe\">\n",
       "  <thead>\n",
       "    <tr style=\"text-align: right;\">\n",
       "      <th></th>\n",
       "      <th>name</th>\n",
       "      <th>online_order</th>\n",
       "      <th>book_table</th>\n",
       "      <th>rate(5)</th>\n",
       "      <th>votes</th>\n",
       "      <th>phone</th>\n",
       "      <th>rest_type</th>\n",
       "      <th>dish_liked</th>\n",
       "      <th>cuisines</th>\n",
       "      <th>cost_for_two</th>\n",
       "      <th>reviews_list</th>\n",
       "      <th>Restaurant_type</th>\n",
       "      <th>location</th>\n",
       "      <th>target</th>\n",
       "      <th>reviews</th>\n",
       "    </tr>\n",
       "  </thead>\n",
       "  <tbody>\n",
       "    <tr>\n",
       "      <th>1045</th>\n",
       "      <td>Chicken County Grand</td>\n",
       "      <td>Yes</td>\n",
       "      <td>No</td>\n",
       "      <td>3.9</td>\n",
       "      <td>320</td>\n",
       "      <td>080 26533377\\r\\r\\n080 26533378</td>\n",
       "      <td>Casual Dining</td>\n",
       "      <td>Chicken Grill, Fish, Shawarma, Rolls, Tandoori...</td>\n",
       "      <td>North Indian, Chinese</td>\n",
       "      <td>650.0</td>\n",
       "      <td>&amp; offers value for money . Nothing special abo...</td>\n",
       "      <td>Delivery</td>\n",
       "      <td>Bannerghatta Road</td>\n",
       "      <td>1</td>\n",
       "      <td>offers value money nothing special taste ok se...</td>\n",
       "    </tr>\n",
       "    <tr>\n",
       "      <th>25161</th>\n",
       "      <td>Cafe Thulp</td>\n",
       "      <td>Yes</td>\n",
       "      <td>No</td>\n",
       "      <td>4.0</td>\n",
       "      <td>722</td>\n",
       "      <td>080 41606454\\r\\n080 41606452</td>\n",
       "      <td>Cafe</td>\n",
       "      <td>Burgers, Sandwiches, Pasta, Moo Burger, Cheesy...</td>\n",
       "      <td>Cafe, Burger, Italian, Salad</td>\n",
       "      <td>1.0</td>\n",
       "      <td>ove burgers !\\nSuper cool quiet place.\\nFood -...</td>\n",
       "      <td>Cafes</td>\n",
       "      <td>Kammanahalli</td>\n",
       "      <td>1</td>\n",
       "      <td>ove burgers nsuper cool quiet placenfood super...</td>\n",
       "    </tr>\n",
       "    <tr>\n",
       "      <th>16455</th>\n",
       "      <td>Vintage Shack</td>\n",
       "      <td>Yes</td>\n",
       "      <td>Yes</td>\n",
       "      <td>3.9</td>\n",
       "      <td>161</td>\n",
       "      <td>080 49652190</td>\n",
       "      <td>Casual Dining, Lounge</td>\n",
       "      <td>Panna Cotta, Murgh Makhani, Pasta, Lemonade, C...</td>\n",
       "      <td>North Indian, Continental</td>\n",
       "      <td>900.0</td>\n",
       "      <td>ce\\nI'd give a 5 for the ambience, 3.5 for the...</td>\n",
       "      <td>Delivery</td>\n",
       "      <td>HSR</td>\n",
       "      <td>1</td>\n",
       "      <td>cenid give 5 ambience 35 vegetarian option 45 ...</td>\n",
       "    </tr>\n",
       "    <tr>\n",
       "      <th>12152</th>\n",
       "      <td>Oye Amritsar</td>\n",
       "      <td>Yes</td>\n",
       "      <td>Yes</td>\n",
       "      <td>4.1</td>\n",
       "      <td>452</td>\n",
       "      <td>+91 9036025211</td>\n",
       "      <td>Casual Dining</td>\n",
       "      <td>Lassi, Aloo Paratha, Jalebi, Palak Paneer, Che...</td>\n",
       "      <td>North Indian</td>\n",
       "      <td>600.0</td>\n",
       "      <td>e compared to the same restaurants at differen...</td>\n",
       "      <td>Delivery</td>\n",
       "      <td>Church Street</td>\n",
       "      <td>1</td>\n",
       "      <td>e compared restaurants different places food n...</td>\n",
       "    </tr>\n",
       "    <tr>\n",
       "      <th>15401</th>\n",
       "      <td>Rahhams</td>\n",
       "      <td>Yes</td>\n",
       "      <td>No</td>\n",
       "      <td>3.9</td>\n",
       "      <td>851</td>\n",
       "      <td>080 25486696\\r\\r\\n080 25484590</td>\n",
       "      <td>Casual Dining</td>\n",
       "      <td>Mutton Biryani, Shawarma, Bheja Fry, Pahari Ch...</td>\n",
       "      <td>Mughlai, North Indian, Chinese</td>\n",
       "      <td>700.0</td>\n",
       "      <td>entic birayani is town this is the place you n...</td>\n",
       "      <td>Dine-out</td>\n",
       "      <td>Frazer Town</td>\n",
       "      <td>1</td>\n",
       "      <td>entic birayani town place need order along sho...</td>\n",
       "    </tr>\n",
       "  </tbody>\n",
       "</table>\n",
       "</div>"
      ],
      "text/plain": [
       "                       name online_order book_table  rate(5)  votes  \\\n",
       "1045   Chicken County Grand          Yes         No      3.9    320   \n",
       "25161            Cafe Thulp          Yes         No      4.0    722   \n",
       "16455         Vintage Shack          Yes        Yes      3.9    161   \n",
       "12152          Oye Amritsar          Yes        Yes      4.1    452   \n",
       "15401               Rahhams          Yes         No      3.9    851   \n",
       "\n",
       "                                phone              rest_type  \\\n",
       "1045   080 26533377\\r\\r\\n080 26533378          Casual Dining   \n",
       "25161    080 41606454\\r\\n080 41606452                   Cafe   \n",
       "16455                    080 49652190  Casual Dining, Lounge   \n",
       "12152                  +91 9036025211          Casual Dining   \n",
       "15401  080 25486696\\r\\r\\n080 25484590          Casual Dining   \n",
       "\n",
       "                                              dish_liked  \\\n",
       "1045   Chicken Grill, Fish, Shawarma, Rolls, Tandoori...   \n",
       "25161  Burgers, Sandwiches, Pasta, Moo Burger, Cheesy...   \n",
       "16455  Panna Cotta, Murgh Makhani, Pasta, Lemonade, C...   \n",
       "12152  Lassi, Aloo Paratha, Jalebi, Palak Paneer, Che...   \n",
       "15401  Mutton Biryani, Shawarma, Bheja Fry, Pahari Ch...   \n",
       "\n",
       "                             cuisines  cost_for_two  \\\n",
       "1045            North Indian, Chinese         650.0   \n",
       "25161    Cafe, Burger, Italian, Salad           1.0   \n",
       "16455       North Indian, Continental         900.0   \n",
       "12152                    North Indian         600.0   \n",
       "15401  Mughlai, North Indian, Chinese         700.0   \n",
       "\n",
       "                                            reviews_list Restaurant_type  \\\n",
       "1045   & offers value for money . Nothing special abo...        Delivery   \n",
       "25161  ove burgers !\\nSuper cool quiet place.\\nFood -...           Cafes   \n",
       "16455  ce\\nI'd give a 5 for the ambience, 3.5 for the...        Delivery   \n",
       "12152  e compared to the same restaurants at differen...        Delivery   \n",
       "15401  entic birayani is town this is the place you n...        Dine-out   \n",
       "\n",
       "                location  target  \\\n",
       "1045   Bannerghatta Road       1   \n",
       "25161       Kammanahalli       1   \n",
       "16455                HSR       1   \n",
       "12152      Church Street       1   \n",
       "15401        Frazer Town       1   \n",
       "\n",
       "                                                 reviews  \n",
       "1045   offers value money nothing special taste ok se...  \n",
       "25161  ove burgers nsuper cool quiet placenfood super...  \n",
       "16455  cenid give 5 ambience 35 vegetarian option 45 ...  \n",
       "12152  e compared restaurants different places food n...  \n",
       "15401  entic birayani town place need order along sho...  "
      ]
     },
     "execution_count": 121,
     "metadata": {},
     "output_type": "execute_result"
    }
   ],
   "source": [
    "import nltk\n",
    "nltk.download('stopwords')\n",
    "from nltk.corpus import stopwords\n",
    "\n",
    "stop = stopwords.words('english')\n",
    "\n",
    "data_balanced[\"reviews\"] = data_balanced[\"reviews_list\"].str.lower()\n",
    "data_balanced[\"reviews\"] = data_balanced[\"reviews\"].apply(lambda x: re.sub(r\"(@[A-Za-z0-9\\d+]+)|([^0-9A-Za-z \\t])|(\\w+:\\/\\/\\S+)|^rt|http.+?\", \"\", x))\n",
    "data_balanced[\"reviews\"] = data_balanced[\"reviews\"].apply(lambda x: \" \".join([i for i in x.split() if i not in stop]))\n",
    "\n",
    "data_balanced.head()"
   ]
  },
  {
   "cell_type": "code",
   "execution_count": 124,
   "id": "6a1238e2",
   "metadata": {},
   "outputs": [
    {
     "name": "stdout",
     "output_type": "stream",
     "text": [
      "Training set size: (24276, 185949)\n",
      "Validation set size: (4046, 185949)\n",
      "Test set size: (12138, 185949)\n",
      "Validation Accuracy: 0.893969352446861\n",
      "Test Accuracy: 0.9049266765529741\n"
     ]
    }
   ],
   "source": [
    "# Split the dataset into features (X) and target (y)\n",
    "X = data_balanced[\"reviews\"]\n",
    "y = data_balanced[\"target\"]\n",
    "\n",
    "# Convert text data into numerical features using TF-IDF vectorization\n",
    "vectorizer = TfidfVectorizer()\n",
    "X = vectorizer.fit_transform(X)\n",
    "\n",
    "# Split the dataset into training (60%), validation (20%), and testing (20%) sets\n",
    "X_train, X_temp, y_train, y_temp = train_test_split(X, y, test_size=0.4, random_state=42)  # 60% for training\n",
    "X_val, X_test, y_val, y_test = train_test_split(X_temp, y_temp, test_size=0.75, random_state=42)  # 20% each for validation and test\n",
    "\n",
    "# Print the shapes of the datasets\n",
    "print(\"Training set size:\", X_train.shape)\n",
    "print(\"Validation set size:\", X_val.shape)\n",
    "print(\"Test set size:\", X_test.shape)\n",
    "\n",
    "# Create a logistic regression model\n",
    "model = LogisticRegression()\n",
    "\n",
    "# Train the model on the training set\n",
    "model.fit(X_train, y_train)\n",
    "\n",
    "# Evaluate the model on the validation set\n",
    "y_val_pred = model.predict(X_val)\n",
    "val_accuracy = accuracy_score(y_val, y_val_pred)\n",
    "print(\"Validation Accuracy:\", val_accuracy)\n",
    "\n",
    "# Fine-tune the model here if needed based on validation performance\n",
    "\n",
    "# Make predictions on the test set\n",
    "y_test_pred = model.predict(X_test)\n",
    "\n",
    "# Evaluate the model on the test set\n",
    "test_accuracy = accuracy_score(y_test, y_test_pred)\n",
    "print(\"Test Accuracy:\", test_accuracy)\n"
   ]
  },
  {
   "cell_type": "code",
   "execution_count": 125,
   "id": "04769566",
   "metadata": {
    "scrolled": true
   },
   "outputs": [
    {
     "name": "stdout",
     "output_type": "stream",
     "text": [
      "Accuracy: 0.912135442412259\n"
     ]
    },
    {
     "name": "stderr",
     "output_type": "stream",
     "text": [
      "C:\\Users\\ziad_\\anaconda3\\lib\\site-packages\\sklearn\\linear_model\\_logistic.py:814: ConvergenceWarning: lbfgs failed to converge (status=1):\n",
      "STOP: TOTAL NO. of ITERATIONS REACHED LIMIT.\n",
      "\n",
      "Increase the number of iterations (max_iter) or scale the data as shown in:\n",
      "    https://scikit-learn.org/stable/modules/preprocessing.html\n",
      "Please also refer to the documentation for alternative solver options:\n",
      "    https://scikit-learn.org/stable/modules/linear_model.html#logistic-regression\n",
      "  n_iter_i = _check_optimize_result(\n"
     ]
    }
   ],
   "source": [
    "# Split the dataset into features reviews and target\n",
    "X = data_balanced[\"reviews\"]\n",
    "y = data_balanced[\"target\"]\n",
    "\n",
    "# Convert text data into numerical features using TF-IDF vectorization\n",
    "vectorizer = TfidfVectorizer()\n",
    "X = vectorizer.fit_transform(X)\n",
    "\n",
    "# Split the dataset into training and testing sets\n",
    "X_train, X_test, y_train, y_test = train_test_split(X, y, test_size=0.2, random_state=42)\n",
    "\n",
    "# Create a logistic regression model\n",
    "model = LogisticRegression()\n",
    "\n",
    "# Train the model\n",
    "model.fit(X_train, y_train)\n",
    "\n",
    "# Make predictions on the test set\n",
    "y_pred = model.predict(X_test)\n",
    "\n",
    "# Evaluate the model\n",
    "accuracy = accuracy_score(y_test, y_pred)\n",
    "print(\"Accuracy:\", accuracy)"
   ]
  },
  {
   "cell_type": "code",
   "execution_count": null,
   "id": "1594ddfd",
   "metadata": {},
   "outputs": [],
   "source": []
  },
  {
   "cell_type": "code",
   "execution_count": 126,
   "id": "4b286eaa",
   "metadata": {},
   "outputs": [
    {
     "name": "stdout",
     "output_type": "stream",
     "text": [
      "Precision: 91.86567164179105\n",
      "Recall: 90.5813097866078\n"
     ]
    }
   ],
   "source": [
    "precision = precision_score(y_test, y_pred)\n",
    "\n",
    "# Calculate recall\n",
    "recall = recall_score(y_test, y_pred)\n",
    "\n",
    "print(\"Precision:\", precision*100)\n",
    "print(\"Recall:\", recall*100)"
   ]
  },
  {
   "cell_type": "code",
   "execution_count": 139,
   "id": "6ab39384",
   "metadata": {},
   "outputs": [
    {
     "name": "stdout",
     "output_type": "stream",
     "text": [
      "Predicted label: Bad\n"
     ]
    }
   ],
   "source": [
    "import joblib \n",
    "\n",
    "joblib.dump(model, \"logistic_regression_model.pkl\")\n",
    "\n",
    "preprocessed_input = vectorizer.transform(['not preferred place'])\n",
    "predicted_label = model.predict(preprocessed_input)\n",
    "\n",
    "if predicted_label[0] == 1:\n",
    "    predicted_label = 'Good'\n",
    "else:\n",
    "    predicted_label = 'Bad'\n",
    "\n",
    "print(\"Predicted label:\", predicted_label)"
   ]
  },
  {
   "cell_type": "code",
   "execution_count": 143,
   "id": "0a09eca4",
   "metadata": {},
   "outputs": [
    {
     "name": "stdout",
     "output_type": "stream",
     "text": [
      "Predicted label: Good\n"
     ]
    }
   ],
   "source": [
    "preprocessed_input = vectorizer.transform(['perfect place'])\n",
    "predicted_label = model.predict(preprocessed_input)\n",
    "\n",
    "if predicted_label[0] == 1:\n",
    "    predicted_label = 'Good'\n",
    "else:\n",
    "    predicted_label = 'Bad'\n",
    "    \n",
    "print(\"Predicted label:\", predicted_label)"
   ]
  },
  {
   "cell_type": "code",
   "execution_count": 144,
   "id": "3770efae",
   "metadata": {},
   "outputs": [
    {
     "data": {
      "text/plain": [
       "'G'"
      ]
     },
     "execution_count": 144,
     "metadata": {},
     "output_type": "execute_result"
    }
   ],
   "source": [
    "predicted_label[0]"
   ]
  },
  {
   "cell_type": "markdown",
   "id": "231837a2",
   "metadata": {},
   "source": [
    "# Here is the reasons of way i used logistic regression classification model in terms of accuracy, precision, and recall:\n",
    "\n",
    "    Logistic Regression:\n",
    "        Accuracy: Logistic regression achieves an accuracy of X%. It correctly predicts X% of the instances in the dataset.\n",
    "        Precision: Logistic regression has a precision of X%. It accurately identifies X% of the positive instances among all the instances it predicts as positive.\n",
    "        Recall: Logistic regression has a recall of X%. It correctly identifies X% of the positive instances in the dataset.\n",
    "\n",
    "    Decision Tree:\n",
    "        Accuracy: The decision tree model achieves an accuracy of X%. It correctly predicts X% of the instances in the dataset.\n",
    "        Precision: The decision tree model has a precision of X%. It accurately identifies X% of the positive instances among all the instances it predicts as positive.\n",
    "        Recall: The decision tree model has a recall of X%. It correctly identifies X% of the positive instances in the dataset.\n",
    "\n",
    "    Random Forest:\n",
    "        Accuracy: The random forest model achieves an accuracy of X%. It correctly predicts X% of the instances in the dataset.\n",
    "        Precision: The random forest model has a precision of X%. It accurately identifies X% of the positive instances among all the instances it predicts as positive.\n",
    "        Recall: The random forest model has a recall of X%. It correctly identifies X% of the positive instances in the dataset."
   ]
  },
  {
   "cell_type": "code",
   "execution_count": null,
   "id": "b6dc74c8",
   "metadata": {},
   "outputs": [],
   "source": []
  }
 ],
 "metadata": {
  "kernelspec": {
   "display_name": "Python 3 (ipykernel)",
   "language": "python",
   "name": "python3"
  },
  "language_info": {
   "codemirror_mode": {
    "name": "ipython",
    "version": 3
   },
   "file_extension": ".py",
   "mimetype": "text/x-python",
   "name": "python",
   "nbconvert_exporter": "python",
   "pygments_lexer": "ipython3",
   "version": "3.9.13"
  }
 },
 "nbformat": 4,
 "nbformat_minor": 5
}
