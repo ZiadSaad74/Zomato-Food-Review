{
 "cells": [
  {
   "cell_type": "markdown",
   "metadata": {},
   "source": [
    "# Problem Description¶\n"
   ]
  },
  {
   "cell_type": "markdown",
   "metadata": {},
   "source": [
    "- This dataset consists of reviews of fine foods from amazon. The data span a period of more than 10 years, including all ~500,000 reviews up to October 2012. Reviews include product and user information, ratings, and a plain text review. It also includes reviews from all other Amazon categories.\n",
    "\n",
    "\n",
    "- Data includes:\n",
    "\n",
    "    - Reviews from Oct 1999 - Oct 2012\n",
    "    - 568,454 reviews\n",
    "    - 256,059 users\n",
    "    - 74,258 products\n",
    "    - 260 users with > 50 reviews\n",
    "    \n",
    "\n",
    "- Dataset link : https://www.kaggle.com/snap/amazon-fine-food-reviews?select=Reviews.csv"
   ]
  },
  {
   "cell_type": "code",
   "execution_count": 10,
   "metadata": {},
   "outputs": [],
   "source": [
    "import os, sys\n",
    "\n",
    "import pandas as pd\n",
    "import numpy as np\n",
    "\n",
    "import nltk \n",
    "#nltk.download('stopwords')\n",
    "from nltk.corpus import stopwords\n",
    "\n",
    "import string # Removing special characters {#, @, ...}\n",
    "import re # Regex Package\n",
    "\n",
    "from nltk.stem import SnowballStemmer, WordNetLemmatizer , LancasterStemmer , PorterStemmer\n",
    "# Stemmer & Lemmatizer\n",
    "#from gensim.utils import simple_preprocess  # Text ==> List of Tokens\n",
    "\n",
    "# Text Embedding\n",
    "from sklearn.feature_extraction.text import TfidfVectorizer\n",
    "from sklearn import preprocessing\n",
    "\n",
    "# Modelling\n",
    "from sklearn.model_selection import train_test_split\n",
    "from sklearn.ensemble import RandomForestClassifier\n",
    "from sklearn.metrics import accuracy_score\n",
    "from sklearn.neighbors import KNeighborsClassifier\n",
    "\n",
    "# Saving Model\n",
    "import pickle\n",
    "\n",
    "# Visualization Packages\n",
    "import seaborn as sns\n",
    "import matplotlib.pyplot as plt\n",
    "sns.set(font_scale=1.3)\n",
    "%matplotlib inline"
   ]
  },
  {
   "cell_type": "code",
   "execution_count": 16,
   "metadata": {
    "scrolled": false
   },
   "outputs": [
    {
     "data": {
      "text/plain": [
       "21    100\n",
       "19    100\n",
       "2     100\n",
       "4     100\n",
       "6     100\n",
       "8     100\n",
       "10    100\n",
       "12    100\n",
       "14    100\n",
       "16    100\n",
       "18    100\n",
       "20    100\n",
       "1     100\n",
       "3     100\n",
       "5     100\n",
       "7     100\n",
       "9     100\n",
       "11    100\n",
       "13    100\n",
       "15    100\n",
       "17    100\n",
       "0     100\n",
       "Name: no_label, dtype: int64"
      ]
     },
     "execution_count": 16,
     "metadata": {},
     "output_type": "execute_result"
    }
   ],
   "source": [
    "df = pd.read_csv(\"Crop_recommendation.csv\")\n",
    "df.drop_duplicates(inplace = True)\n",
    "df['no_label'] = pd.Categorical(df.label).codes\n",
    "df.no_label.value_counts()"
   ]
  },
  {
   "cell_type": "code",
   "execution_count": 18,
   "metadata": {},
   "outputs": [],
   "source": [
    "X = df[[\"N\",\"P\",\"K\",\"temperature\",\"humidity\",\"ph\" ,\"rainfall\",\"no_label\"]].values\n",
    "X = preprocessing.StandardScaler().fit(X).transform(X.astype(float))\n",
    "\n",
    "Y = df.no_label.values\n",
    "\n",
    "X_train ,X_test,y_train,y_test = train_test_split(X,Y, test_size= .2 , random_state =22)"
   ]
  },
  {
   "cell_type": "code",
   "execution_count": 21,
   "metadata": {},
   "outputs": [
    {
     "name": "stdout",
     "output_type": "stream",
     "text": [
      "(1760, 8)    (440, 8)\n",
      "(1760,)    (440,)\n"
     ]
    }
   ],
   "source": [
    "print(X_train.shape,\"  \",X_test.shape)\n",
    "print(y_train.shape,\"  \",y_test.shape)"
   ]
  },
  {
   "cell_type": "code",
   "execution_count": 23,
   "metadata": {},
   "outputs": [
    {
     "name": "stdout",
     "output_type": "stream",
     "text": [
      "[ 99.77272727  99.77272727 100.         100.         100.\n",
      " 100.         100.          99.77272727 100.          99.77272727\n",
      " 100.          99.77272727  99.77272727  99.77272727  99.54545455\n",
      "  99.54545455  99.54545455  99.54545455  99.54545455  99.54545455\n",
      "  99.54545455  99.54545455  99.09090909  99.09090909]\n"
     ]
    }
   ],
   "source": [
    "k= 25\n",
    "score = np.zeros((k-1))\n",
    "\n",
    "for n in range(1,k):\n",
    "\n",
    "    neigh = KNeighborsClassifier(n_neighbors = n).fit(X_train , y_train)\n",
    "    y_hat_test = neigh.predict(X_test)\n",
    "    score[n-1] = accuracy_score(y_test ,y_hat_test)*100\n",
    "\n",
    "print(score)\n",
    "\n",
    "#print('Training accuracy = %.2f' % accuracy_score(y_train , y_hat_train))\n",
    "#print('Testing accuracy = %.2f' % accuracy_score(y_test ,y_hat_test))"
   ]
  },
  {
   "cell_type": "code",
   "execution_count": 43,
   "metadata": {},
   "outputs": [],
   "source": [
    "scalar = StandardScaler()\n",
    "X_train = scalar.fit_transform(X_train)\n",
    "X_test = scalar.transform(X_test)"
   ]
  },
  {
   "cell_type": "code",
   "execution_count": 44,
   "metadata": {},
   "outputs": [],
   "source": [
    "from sklearn.metrics import confusion_matrix,classification_report\n",
    "from sklearn.linear_model import LogisticRegression\n",
    "from sklearn.ensemble import RandomForestClassifier\n",
    "from sklearn.svm import SVC\n",
    "from sklearn.preprocessing import StandardScaler\n",
    "from sklearn.model_selection import train_test_split"
   ]
  },
  {
   "cell_type": "code",
   "execution_count": 45,
   "metadata": {
    "scrolled": true
   },
   "outputs": [
    {
     "name": "stdout",
     "output_type": "stream",
     "text": [
      "Accuracy Score for Logistic Regression is :  97.72727272727273 %\n",
      "Accuracy Score for Random Forest is :  99.54545454545455 %\n",
      "Accuracy Score for Support Vector Machine is :  99.0909090909091 %\n"
     ]
    }
   ],
   "source": [
    "models = {\n",
    "    LogisticRegression(max_iter=500):'Logistic Regression',\n",
    "    RandomForestClassifier():'Random Forest',\n",
    "    SVC():'Support Vector Machine'\n",
    "}\n",
    "for m in models.keys():\n",
    "    m.fit(X_train,y_train)\n",
    "for model,name in models.items():\n",
    "     print(f\"Accuracy Score for {name} is : \",model.score(X_test,y_test)*100,\"%\")"
   ]
  },
  {
   "cell_type": "code",
   "execution_count": 46,
   "metadata": {},
   "outputs": [
    {
     "data": {
      "text/plain": [
       "RandomForestClassifier()"
      ]
     },
     "execution_count": 46,
     "metadata": {},
     "output_type": "execute_result"
    }
   ],
   "source": [
    "rf = RandomForestClassifier()\n",
    "rf.fit(X_train,y_train)"
   ]
  },
  {
   "cell_type": "code",
   "execution_count": 47,
   "metadata": {},
   "outputs": [],
   "source": [
    "y_pred = rf.predict(X_test)"
   ]
  },
  {
   "cell_type": "code",
   "execution_count": 48,
   "metadata": {},
   "outputs": [
    {
     "data": {
      "image/png": "[encoded data removed]",
      "text/plain": [
       "<Figure size 432x288 with 2 Axes>"
      ]
     },
     "metadata": {
      "needs_background": "light"
     },
     "output_type": "display_data"
    }
   ],
   "source": [
    "class_names = np.arange(0,21)\n",
    "fig,ax = plt.subplots()\n",
    "tick_marks = np.arange(len(class_names))\n",
    "plt.xticks(tick_marks,class_names)\n",
    "plt.yticks(tick_marks,class_names)\n",
    "cnf_matrix = confusion_matrix(y_test,y_pred)\n",
    "sns.heatmap(pd.DataFrame(cnf_matrix), annot = True,fmt = 'd')\n",
    "ax.xaxis.set_label_position('top')\n",
    "plt.tight_layout()\n",
    "plt.title(f'Confusion Matrix for Random Forest', {'fontsize':20})\n",
    "plt.ylabel('Actual label')\n",
    "plt.xlabel('Predicted label')\n",
    "plt.show()"
   ]
  },
  {
   "cell_type": "code",
   "execution_count": null,
   "metadata": {},
   "outputs": [],
   "source": []
  },
  {
   "cell_type": "code",
   "execution_count": 4,
   "metadata": {},
   "outputs": [
    {
     "data": {
      "text/html": [
       "<div>\n",
       "<style scoped>\n",
       "    .dataframe tbody tr th:only-of-type {\n",
       "        vertical-align: middle;\n",
       "    }\n",
       "\n",
       "    .dataframe tbody tr th {\n",
       "        vertical-align: top;\n",
       "    }\n",
       "\n",
       "    .dataframe thead th {\n",
       "        text-align: right;\n",
       "    }\n",
       "</style>\n",
       "<table border=\"1\" class=\"dataframe\">\n",
       "  <thead>\n",
       "    <tr style=\"text-align: right;\">\n",
       "      <th></th>\n",
       "      <th>N</th>\n",
       "      <th>P</th>\n",
       "      <th>K</th>\n",
       "      <th>temperature</th>\n",
       "      <th>humidity</th>\n",
       "      <th>ph</th>\n",
       "      <th>rainfall</th>\n",
       "      <th>label</th>\n",
       "    </tr>\n",
       "  </thead>\n",
       "  <tbody>\n",
       "    <tr>\n",
       "      <th>0</th>\n",
       "      <td>90</td>\n",
       "      <td>42</td>\n",
       "      <td>43</td>\n",
       "      <td>20.879744</td>\n",
       "      <td>82.002744</td>\n",
       "      <td>6.502985</td>\n",
       "      <td>202.935536</td>\n",
       "      <td>rice</td>\n",
       "    </tr>\n",
       "    <tr>\n",
       "      <th>1</th>\n",
       "      <td>85</td>\n",
       "      <td>58</td>\n",
       "      <td>41</td>\n",
       "      <td>21.770462</td>\n",
       "      <td>80.319644</td>\n",
       "      <td>7.038096</td>\n",
       "      <td>226.655537</td>\n",
       "      <td>rice</td>\n",
       "    </tr>\n",
       "    <tr>\n",
       "      <th>2</th>\n",
       "      <td>60</td>\n",
       "      <td>55</td>\n",
       "      <td>44</td>\n",
       "      <td>23.004459</td>\n",
       "      <td>82.320763</td>\n",
       "      <td>7.840207</td>\n",
       "      <td>263.964248</td>\n",
       "      <td>rice</td>\n",
       "    </tr>\n",
       "    <tr>\n",
       "      <th>3</th>\n",
       "      <td>74</td>\n",
       "      <td>35</td>\n",
       "      <td>40</td>\n",
       "      <td>26.491096</td>\n",
       "      <td>80.158363</td>\n",
       "      <td>6.980401</td>\n",
       "      <td>242.864034</td>\n",
       "      <td>rice</td>\n",
       "    </tr>\n",
       "  </tbody>\n",
       "</table>\n",
       "</div>"
      ],
      "text/plain": [
       "    N   P   K  temperature   humidity        ph    rainfall label\n",
       "0  90  42  43    20.879744  82.002744  6.502985  202.935536  rice\n",
       "1  85  58  41    21.770462  80.319644  7.038096  226.655537  rice\n",
       "2  60  55  44    23.004459  82.320763  7.840207  263.964248  rice\n",
       "3  74  35  40    26.491096  80.158363  6.980401  242.864034  rice"
      ]
     },
     "execution_count": 4,
     "metadata": {},
     "output_type": "execute_result"
    }
   ],
   "source": [
    "data_text = df.copy()\n",
    "data_text.head(4)"
   ]
  },
  {
   "cell_type": "code",
   "execution_count": 5,
   "metadata": {},
   "outputs": [],
   "source": [
    "data_text.drop_duplicates(inplace = True)"
   ]
  },
  {
   "cell_type": "markdown",
   "metadata": {},
   "source": [
    "# Target Variable Pre-Processing"
   ]
  },
  {
   "cell_type": "code",
   "execution_count": 6,
   "metadata": {
    "scrolled": false
   },
   "outputs": [
    {
     "data": {
      "text/html": [
       "<div>\n",
       "<style scoped>\n",
       "    .dataframe tbody tr th:only-of-type {\n",
       "        vertical-align: middle;\n",
       "    }\n",
       "\n",
       "    .dataframe tbody tr th {\n",
       "        vertical-align: top;\n",
       "    }\n",
       "\n",
       "    .dataframe thead th {\n",
       "        text-align: right;\n",
       "    }\n",
       "</style>\n",
       "<table border=\"1\" class=\"dataframe\">\n",
       "  <thead>\n",
       "    <tr style=\"text-align: right;\">\n",
       "      <th></th>\n",
       "      <th>N</th>\n",
       "      <th>P</th>\n",
       "      <th>K</th>\n",
       "      <th>temperature</th>\n",
       "      <th>humidity</th>\n",
       "      <th>ph</th>\n",
       "      <th>rainfall</th>\n",
       "      <th>label</th>\n",
       "      <th>target</th>\n",
       "    </tr>\n",
       "  </thead>\n",
       "  <tbody>\n",
       "    <tr>\n",
       "      <th>0</th>\n",
       "      <td>90</td>\n",
       "      <td>42</td>\n",
       "      <td>43</td>\n",
       "      <td>20.879744</td>\n",
       "      <td>82.002744</td>\n",
       "      <td>6.502985</td>\n",
       "      <td>202.935536</td>\n",
       "      <td>rice</td>\n",
       "      <td>rice</td>\n",
       "    </tr>\n",
       "    <tr>\n",
       "      <th>1</th>\n",
       "      <td>85</td>\n",
       "      <td>58</td>\n",
       "      <td>41</td>\n",
       "      <td>21.770462</td>\n",
       "      <td>80.319644</td>\n",
       "      <td>7.038096</td>\n",
       "      <td>226.655537</td>\n",
       "      <td>rice</td>\n",
       "      <td>rice</td>\n",
       "    </tr>\n",
       "    <tr>\n",
       "      <th>2</th>\n",
       "      <td>60</td>\n",
       "      <td>55</td>\n",
       "      <td>44</td>\n",
       "      <td>23.004459</td>\n",
       "      <td>82.320763</td>\n",
       "      <td>7.840207</td>\n",
       "      <td>263.964248</td>\n",
       "      <td>rice</td>\n",
       "      <td>rice</td>\n",
       "    </tr>\n",
       "  </tbody>\n",
       "</table>\n",
       "</div>"
      ],
      "text/plain": [
       "    N   P   K  temperature   humidity        ph    rainfall label target\n",
       "0  90  42  43    20.879744  82.002744  6.502985  202.935536  rice   rice\n",
       "1  85  58  41    21.770462  80.319644  7.038096  226.655537  rice   rice\n",
       "2  60  55  44    23.004459  82.320763  7.840207  263.964248  rice   rice"
      ]
     },
     "execution_count": 6,
     "metadata": {},
     "output_type": "execute_result"
    }
   ],
   "source": [
    "data_text[\"target\"] = data_text['label']\n",
    "data_text.head(3)"
   ]
  },
  {
   "cell_type": "code",
   "execution_count": 9,
   "metadata": {},
   "outputs": [
    {
     "data": {
      "text/plain": [
       "mungbean       100\n",
       "lentil         100\n",
       "muskmelon      100\n",
       "cotton         100\n",
       "coffee         100\n",
       "maize          100\n",
       "banana         100\n",
       "jute           100\n",
       "apple          100\n",
       "grapes         100\n",
       "mothbeans      100\n",
       "watermelon     100\n",
       "kidneybeans    100\n",
       "orange         100\n",
       "blackgram      100\n",
       "chickpea       100\n",
       "mango          100\n",
       "coconut        100\n",
       "rice           100\n",
       "pomegranate    100\n",
       "papaya         100\n",
       "pigeonpeas     100\n",
       "Name: target, dtype: int64"
      ]
     },
     "execution_count": 9,
     "metadata": {},
     "output_type": "execute_result"
    }
   ],
   "source": [
    "data_text[\"target\"].value_counts()"
   ]
  },
  {
   "cell_type": "code",
   "execution_count": 10,
   "metadata": {},
   "outputs": [
    {
     "name": "stdout",
     "output_type": "stream",
     "text": [
      "<class 'pandas.core.frame.DataFrame'>\n",
      "RangeIndex: 2200 entries, 0 to 2199\n",
      "Data columns (total 9 columns):\n",
      " #   Column       Non-Null Count  Dtype  \n",
      "---  ------       --------------  -----  \n",
      " 0   N            2200 non-null   int64  \n",
      " 1   P            2200 non-null   int64  \n",
      " 2   K            2200 non-null   int64  \n",
      " 3   temperature  2200 non-null   float64\n",
      " 4   humidity     2200 non-null   float64\n",
      " 5   ph           2200 non-null   float64\n",
      " 6   rainfall     2200 non-null   float64\n",
      " 7   label        2200 non-null   object \n",
      " 8   target       2200 non-null   object \n",
      "dtypes: float64(4), int64(3), object(2)\n",
      "memory usage: 154.8+ KB\n"
     ]
    }
   ],
   "source": [
    "data_text.dropna(inplace = True , axis = 0)\n",
    "\n",
    "data_text = data_text.reset_index(drop=True)\n",
    "\n",
    "data_text.info()"
   ]
  },
  {
   "cell_type": "markdown",
   "metadata": {},
   "source": [
    "# Plot Countplot for target Variable\n"
   ]
  },
  {
   "cell_type": "code",
   "execution_count": 18,
   "metadata": {},
   "outputs": [
    {
     "data": {
      "text/plain": [
       "<matplotlib.axes._subplots.AxesSubplot at 0x23d27c43790>"
      ]
     },
     "execution_count": 18,
     "metadata": {},
     "output_type": "execute_result"
    },
    {
     "data": {
      "image/png": "[encoded data removed]",
      "text/plain": [
       "<Figure size 432x288 with 1 Axes>"
      ]
     },
     "metadata": {
      "needs_background": "light"
     },
     "output_type": "display_data"
    }
   ],
   "source": [
    "sns.countplot(y = \"target\", data = data_text)\n"
   ]
  },
  {
   "cell_type": "code",
   "execution_count": 9,
   "metadata": {},
   "outputs": [],
   "source": [
    "NEG_N = data_text.target.value_counts()[0]\n",
    "df_pos = data_text[data_text['target'] == 1]['Text'].sample(NEG_N, replace=False)\n",
    "data_balanced = pd.concat([data_text.iloc[df_pos.index], data_text[data_text.target == 0]])"
   ]
  },
  {
   "cell_type": "code",
   "execution_count": 10,
   "metadata": {},
   "outputs": [
    {
     "data": {
      "text/plain": [
       "<matplotlib.axes._subplots.AxesSubplot at 0x21320e58520>"
      ]
     },
     "execution_count": 10,
     "metadata": {},
     "output_type": "execute_result"
    },
    {
     "data": {
      "image/png": "[encoded data removed]",
      "text/plain": [
       "<Figure size 432x288 with 1 Axes>"
      ]
     },
     "metadata": {
      "needs_background": "light"
     },
     "output_type": "display_data"
    }
   ],
   "source": [
    "sns.countplot(x = \"target\" , data = data_balanced)"
   ]
  },
  {
   "cell_type": "markdown",
   "metadata": {},
   "source": [
    "# Text Pre-Processing\n"
   ]
  },
  {
   "cell_type": "code",
   "execution_count": 11,
   "metadata": {
    "scrolled": true
   },
   "outputs": [
    {
     "data": {
      "text/html": [
       "<div>\n",
       "<style scoped>\n",
       "    .dataframe tbody tr th:only-of-type {\n",
       "        vertical-align: middle;\n",
       "    }\n",
       "\n",
       "    .dataframe tbody tr th {\n",
       "        vertical-align: top;\n",
       "    }\n",
       "\n",
       "    .dataframe thead th {\n",
       "        text-align: right;\n",
       "    }\n",
       "</style>\n",
       "<table border=\"1\" class=\"dataframe\">\n",
       "  <thead>\n",
       "    <tr style=\"text-align: right;\">\n",
       "      <th></th>\n",
       "      <th>Text</th>\n",
       "      <th>Score</th>\n",
       "      <th>target</th>\n",
       "      <th>New text</th>\n",
       "    </tr>\n",
       "  </thead>\n",
       "  <tbody>\n",
       "    <tr>\n",
       "      <th>380471</th>\n",
       "      <td>Yunnan province on the mighty Mekong river in ...</td>\n",
       "      <td>4</td>\n",
       "      <td>1</td>\n",
       "      <td>yunnan province on the mighty mekong river in ...</td>\n",
       "    </tr>\n",
       "    <tr>\n",
       "      <th>95540</th>\n",
       "      <td>My 14 yr.old grandson was diagnosed with Celia...</td>\n",
       "      <td>5</td>\n",
       "      <td>1</td>\n",
       "      <td>my  yrold grandson was diagnosed with celiac i...</td>\n",
       "    </tr>\n",
       "    <tr>\n",
       "      <th>322633</th>\n",
       "      <td>I love this stuff. I grew up with it and passe...</td>\n",
       "      <td>5</td>\n",
       "      <td>1</td>\n",
       "      <td>i love this stuff i grew up with it and passed...</td>\n",
       "    </tr>\n",
       "    <tr>\n",
       "      <th>230645</th>\n",
       "      <td>My dog was scratching like crazy and our vet r...</td>\n",
       "      <td>5</td>\n",
       "      <td>1</td>\n",
       "      <td>my dog was scratching like crazy and our vet r...</td>\n",
       "    </tr>\n",
       "    <tr>\n",
       "      <th>24487</th>\n",
       "      <td>There's something off about the pasta. While m...</td>\n",
       "      <td>3</td>\n",
       "      <td>1</td>\n",
       "      <td>theres something off about the pasta while muc...</td>\n",
       "    </tr>\n",
       "  </tbody>\n",
       "</table>\n",
       "</div>"
      ],
      "text/plain": [
       "                                                     Text  Score  target  \\\n",
       "380471  Yunnan province on the mighty Mekong river in ...      4       1   \n",
       "95540   My 14 yr.old grandson was diagnosed with Celia...      5       1   \n",
       "322633  I love this stuff. I grew up with it and passe...      5       1   \n",
       "230645  My dog was scratching like crazy and our vet r...      5       1   \n",
       "24487   There's something off about the pasta. While m...      3       1   \n",
       "\n",
       "                                                 New text  \n",
       "380471  yunnan province on the mighty mekong river in ...  \n",
       "95540   my  yrold grandson was diagnosed with celiac i...  \n",
       "322633  i love this stuff i grew up with it and passed...  \n",
       "230645  my dog was scratching like crazy and our vet r...  \n",
       "24487   theres something off about the pasta while muc...  "
      ]
     },
     "execution_count": 11,
     "metadata": {},
     "output_type": "execute_result"
    }
   ],
   "source": [
    "data_balanced[\"New text\"] = data_balanced[\"Text\"].str.lower()\n",
    "data_balanced[\"New text\"] = data_balanced[\"New text\"].apply(lambda x: re.sub(r\"(@[A-Za-z0-9]+)|([^0-9A-Za-z \\t])|(\\w+:\\/\\/\\S+)|^rt|http.+?\", \"\", x))\n",
    "data_balanced[\"New text\"] = data_balanced[\"New text\"].apply(lambda x: re.sub(r\"\\d+\", \"\", x))\n",
    "data_balanced.head()"
   ]
  },
  {
   "cell_type": "code",
   "execution_count": 12,
   "metadata": {},
   "outputs": [],
   "source": [
    "stop = stopwords.words('english')\n",
    "data_balanced[\"New text\"] = data_balanced[\"New text\"].apply(lambda x: \" \".join([i for i in x.split() if i not in stop]))"
   ]
  },
  {
   "cell_type": "code",
   "execution_count": 13,
   "metadata": {},
   "outputs": [],
   "source": [
    "#nltk.download('punkt')\n",
    "#data_balanced[[\"Text\",\"New text\"]]"
   ]
  },
  {
   "cell_type": "markdown",
   "metadata": {},
   "source": [
    "# Stemming\n",
    "1- Tokenizing words"
   ]
  },
  {
   "cell_type": "code",
   "execution_count": 14,
   "metadata": {},
   "outputs": [],
   "source": [
    "from nltk.tokenize import word_tokenize\n",
    "\n",
    "data_balanced[\"tkonize\"] = data_balanced[\"New text\"].apply(lambda x : word_tokenize(x))"
   ]
  },
  {
   "cell_type": "code",
   "execution_count": 15,
   "metadata": {},
   "outputs": [
    {
     "data": {
      "text/html": [
       "<div>\n",
       "<style scoped>\n",
       "    .dataframe tbody tr th:only-of-type {\n",
       "        vertical-align: middle;\n",
       "    }\n",
       "\n",
       "    .dataframe tbody tr th {\n",
       "        vertical-align: top;\n",
       "    }\n",
       "\n",
       "    .dataframe thead th {\n",
       "        text-align: right;\n",
       "    }\n",
       "</style>\n",
       "<table border=\"1\" class=\"dataframe\">\n",
       "  <thead>\n",
       "    <tr style=\"text-align: right;\">\n",
       "      <th></th>\n",
       "      <th>Text</th>\n",
       "      <th>Score</th>\n",
       "      <th>target</th>\n",
       "      <th>New text</th>\n",
       "      <th>tkonize</th>\n",
       "    </tr>\n",
       "  </thead>\n",
       "  <tbody>\n",
       "    <tr>\n",
       "      <th>380471</th>\n",
       "      <td>Yunnan province on the mighty Mekong river in ...</td>\n",
       "      <td>4</td>\n",
       "      <td>1</td>\n",
       "      <td>yunnan province mighty mekong river southweste...</td>\n",
       "      <td>[yunnan, province, mighty, mekong, river, sout...</td>\n",
       "    </tr>\n",
       "    <tr>\n",
       "      <th>95540</th>\n",
       "      <td>My 14 yr.old grandson was diagnosed with Celia...</td>\n",
       "      <td>5</td>\n",
       "      <td>1</td>\n",
       "      <td>yrold grandson diagnosed celiac july searching...</td>\n",
       "      <td>[yrold, grandson, diagnosed, celiac, july, sea...</td>\n",
       "    </tr>\n",
       "    <tr>\n",
       "      <th>322633</th>\n",
       "      <td>I love this stuff. I grew up with it and passe...</td>\n",
       "      <td>5</td>\n",
       "      <td>1</td>\n",
       "      <td>love stuff grew passed along tradition kids al...</td>\n",
       "      <td>[love, stuff, grew, passed, along, tradition, ...</td>\n",
       "    </tr>\n",
       "    <tr>\n",
       "      <th>230645</th>\n",
       "      <td>My dog was scratching like crazy and our vet r...</td>\n",
       "      <td>5</td>\n",
       "      <td>1</td>\n",
       "      <td>dog scratching like crazy vet recommended natu...</td>\n",
       "      <td>[dog, scratching, like, crazy, vet, recommende...</td>\n",
       "    </tr>\n",
       "    <tr>\n",
       "      <th>24487</th>\n",
       "      <td>There's something off about the pasta. While m...</td>\n",
       "      <td>3</td>\n",
       "      <td>1</td>\n",
       "      <td>theres something pasta much closer regular pas...</td>\n",
       "      <td>[theres, something, pasta, much, closer, regul...</td>\n",
       "    </tr>\n",
       "  </tbody>\n",
       "</table>\n",
       "</div>"
      ],
      "text/plain": [
       "                                                     Text  Score  target  \\\n",
       "380471  Yunnan province on the mighty Mekong river in ...      4       1   \n",
       "95540   My 14 yr.old grandson was diagnosed with Celia...      5       1   \n",
       "322633  I love this stuff. I grew up with it and passe...      5       1   \n",
       "230645  My dog was scratching like crazy and our vet r...      5       1   \n",
       "24487   There's something off about the pasta. While m...      3       1   \n",
       "\n",
       "                                                 New text  \\\n",
       "380471  yunnan province mighty mekong river southweste...   \n",
       "95540   yrold grandson diagnosed celiac july searching...   \n",
       "322633  love stuff grew passed along tradition kids al...   \n",
       "230645  dog scratching like crazy vet recommended natu...   \n",
       "24487   theres something pasta much closer regular pas...   \n",
       "\n",
       "                                                  tkonize  \n",
       "380471  [yunnan, province, mighty, mekong, river, sout...  \n",
       "95540   [yrold, grandson, diagnosed, celiac, july, sea...  \n",
       "322633  [love, stuff, grew, passed, along, tradition, ...  \n",
       "230645  [dog, scratching, like, crazy, vet, recommende...  \n",
       "24487   [theres, something, pasta, much, closer, regul...  "
      ]
     },
     "execution_count": 15,
     "metadata": {},
     "output_type": "execute_result"
    }
   ],
   "source": [
    "data_balanced.head()"
   ]
  },
  {
   "cell_type": "code",
   "execution_count": 16,
   "metadata": {},
   "outputs": [],
   "source": [
    "def stem(x):\n",
    "    stemmer = SnowballStemmer(\"english\")\n",
    "    word = [stemmer.stem(i) for i in x]\n",
    "    return word\n",
    "\n",
    "data_balanced[\"Stem-words\"] = data_balanced[\"tkonize\"].apply(lambda x : stem(x))\n",
    "data_balanced[\"Stem-words\"] = data_balanced[\"tkonize\"].apply(lambda x : \" \".join(x))\n"
   ]
  },
  {
   "cell_type": "code",
   "execution_count": 17,
   "metadata": {},
   "outputs": [
    {
     "data": {
      "text/plain": [
       "380471    yunnan province mighty mekong river southweste...\n",
       "95540     yrold grandson diagnosed celiac july searching...\n",
       "322633    love stuff grew passed along tradition kids al...\n",
       "230645    dog scratching like crazy vet recommended natu...\n",
       "24487     theres something pasta much closer regular pas...\n",
       "                                ...                        \n",
       "393654    bought soup today local grocer brought back wo...\n",
       "393655    soup mostly broth although kick also sweet tas...\n",
       "393656    mostly broth advertised cup vegetables however...\n",
       "393667    ordered months back great latest batch terribl...\n",
       "393671    im disappointed flavor chocolate notes especia...\n",
       "Name: Stem-words, Length: 114168, dtype: object"
      ]
     },
     "execution_count": 17,
     "metadata": {},
     "output_type": "execute_result"
    }
   ],
   "source": [
    "data_balanced[\"Stem-words\"]"
   ]
  },
  {
   "cell_type": "markdown",
   "metadata": {},
   "source": [
    "2- Lemmatization"
   ]
  },
  {
   "cell_type": "code",
   "execution_count": 18,
   "metadata": {},
   "outputs": [
    {
     "data": {
      "text/html": [
       "<div>\n",
       "<style scoped>\n",
       "    .dataframe tbody tr th:only-of-type {\n",
       "        vertical-align: middle;\n",
       "    }\n",
       "\n",
       "    .dataframe tbody tr th {\n",
       "        vertical-align: top;\n",
       "    }\n",
       "\n",
       "    .dataframe thead th {\n",
       "        text-align: right;\n",
       "    }\n",
       "</style>\n",
       "<table border=\"1\" class=\"dataframe\">\n",
       "  <thead>\n",
       "    <tr style=\"text-align: right;\">\n",
       "      <th></th>\n",
       "      <th>Text</th>\n",
       "      <th>Score</th>\n",
       "      <th>target</th>\n",
       "      <th>New text</th>\n",
       "      <th>tkonize</th>\n",
       "      <th>Stem-words</th>\n",
       "      <th>Lemmatize-words</th>\n",
       "    </tr>\n",
       "  </thead>\n",
       "  <tbody>\n",
       "    <tr>\n",
       "      <th>380471</th>\n",
       "      <td>Yunnan province on the mighty Mekong river in ...</td>\n",
       "      <td>4</td>\n",
       "      <td>1</td>\n",
       "      <td>yunnan province mighty mekong river southweste...</td>\n",
       "      <td>[yunnan, province, mighty, mekong, river, sout...</td>\n",
       "      <td>yunnan province mighty mekong river southweste...</td>\n",
       "      <td>yunnan province mighty mekong river southweste...</td>\n",
       "    </tr>\n",
       "    <tr>\n",
       "      <th>95540</th>\n",
       "      <td>My 14 yr.old grandson was diagnosed with Celia...</td>\n",
       "      <td>5</td>\n",
       "      <td>1</td>\n",
       "      <td>yrold grandson diagnosed celiac july searching...</td>\n",
       "      <td>[yrold, grandson, diagnosed, celiac, july, sea...</td>\n",
       "      <td>yrold grandson diagnosed celiac july searching...</td>\n",
       "      <td>yrold grandson diagnosed celiac july searching...</td>\n",
       "    </tr>\n",
       "  </tbody>\n",
       "</table>\n",
       "</div>"
      ],
      "text/plain": [
       "                                                     Text  Score  target  \\\n",
       "380471  Yunnan province on the mighty Mekong river in ...      4       1   \n",
       "95540   My 14 yr.old grandson was diagnosed with Celia...      5       1   \n",
       "\n",
       "                                                 New text  \\\n",
       "380471  yunnan province mighty mekong river southweste...   \n",
       "95540   yrold grandson diagnosed celiac july searching...   \n",
       "\n",
       "                                                  tkonize  \\\n",
       "380471  [yunnan, province, mighty, mekong, river, sout...   \n",
       "95540   [yrold, grandson, diagnosed, celiac, july, sea...   \n",
       "\n",
       "                                               Stem-words  \\\n",
       "380471  yunnan province mighty mekong river southweste...   \n",
       "95540   yrold grandson diagnosed celiac july searching...   \n",
       "\n",
       "                                          Lemmatize-words  \n",
       "380471  yunnan province mighty mekong river southweste...  \n",
       "95540   yrold grandson diagnosed celiac july searching...  "
      ]
     },
     "execution_count": 18,
     "metadata": {},
     "output_type": "execute_result"
    }
   ],
   "source": [
    "def lemmat(word):\n",
    "    lemmatizer = WordNetLemmatizer()\n",
    "    lem_text = [lemmatizer.lemmatize(i) for i in word]\n",
    "    return lem_text\n",
    "\n",
    "data_balanced['Lemmatize-words'] = data_balanced['tkonize'].apply(lambda x: lemmat(x))\n",
    "data_balanced['Lemmatize-words'] = data_balanced['Lemmatize-words'].apply(lambda x: \" \".join(x))\n",
    "data_balanced.head(2)"
   ]
  },
  {
   "cell_type": "code",
   "execution_count": 21,
   "metadata": {},
   "outputs": [],
   "source": [
    "data_balanced.drop([\"tkonize\"] , axis = 1 , inplace = True)"
   ]
  },
  {
   "cell_type": "code",
   "execution_count": 22,
   "metadata": {},
   "outputs": [
    {
     "data": {
      "text/html": [
       "<div>\n",
       "<style scoped>\n",
       "    .dataframe tbody tr th:only-of-type {\n",
       "        vertical-align: middle;\n",
       "    }\n",
       "\n",
       "    .dataframe tbody tr th {\n",
       "        vertical-align: top;\n",
       "    }\n",
       "\n",
       "    .dataframe thead th {\n",
       "        text-align: right;\n",
       "    }\n",
       "</style>\n",
       "<table border=\"1\" class=\"dataframe\">\n",
       "  <thead>\n",
       "    <tr style=\"text-align: right;\">\n",
       "      <th></th>\n",
       "      <th>Text</th>\n",
       "      <th>Score</th>\n",
       "      <th>target</th>\n",
       "      <th>New text</th>\n",
       "      <th>Stem-words</th>\n",
       "      <th>Lemmatize-words</th>\n",
       "    </tr>\n",
       "  </thead>\n",
       "  <tbody>\n",
       "    <tr>\n",
       "      <th>380471</th>\n",
       "      <td>Yunnan province on the mighty Mekong river in ...</td>\n",
       "      <td>4</td>\n",
       "      <td>1</td>\n",
       "      <td>yunnan province mighty mekong river southweste...</td>\n",
       "      <td>yunnan province mighty mekong river southweste...</td>\n",
       "      <td>yunnan province mighty mekong river southweste...</td>\n",
       "    </tr>\n",
       "    <tr>\n",
       "      <th>95540</th>\n",
       "      <td>My 14 yr.old grandson was diagnosed with Celia...</td>\n",
       "      <td>5</td>\n",
       "      <td>1</td>\n",
       "      <td>yrold grandson diagnosed celiac july searching...</td>\n",
       "      <td>yrold grandson diagnosed celiac july searching...</td>\n",
       "      <td>yrold grandson diagnosed celiac july searching...</td>\n",
       "    </tr>\n",
       "    <tr>\n",
       "      <th>322633</th>\n",
       "      <td>I love this stuff. I grew up with it and passe...</td>\n",
       "      <td>5</td>\n",
       "      <td>1</td>\n",
       "      <td>love stuff grew passed along tradition kids al...</td>\n",
       "      <td>love stuff grew passed along tradition kids al...</td>\n",
       "      <td>love stuff grew passed along tradition kid als...</td>\n",
       "    </tr>\n",
       "    <tr>\n",
       "      <th>230645</th>\n",
       "      <td>My dog was scratching like crazy and our vet r...</td>\n",
       "      <td>5</td>\n",
       "      <td>1</td>\n",
       "      <td>dog scratching like crazy vet recommended natu...</td>\n",
       "      <td>dog scratching like crazy vet recommended natu...</td>\n",
       "      <td>dog scratching like crazy vet recommended natu...</td>\n",
       "    </tr>\n",
       "    <tr>\n",
       "      <th>24487</th>\n",
       "      <td>There's something off about the pasta. While m...</td>\n",
       "      <td>3</td>\n",
       "      <td>1</td>\n",
       "      <td>theres something pasta much closer regular pas...</td>\n",
       "      <td>theres something pasta much closer regular pas...</td>\n",
       "      <td>there something pasta much closer regular past...</td>\n",
       "    </tr>\n",
       "  </tbody>\n",
       "</table>\n",
       "</div>"
      ],
      "text/plain": [
       "                                                     Text  Score  target  \\\n",
       "380471  Yunnan province on the mighty Mekong river in ...      4       1   \n",
       "95540   My 14 yr.old grandson was diagnosed with Celia...      5       1   \n",
       "322633  I love this stuff. I grew up with it and passe...      5       1   \n",
       "230645  My dog was scratching like crazy and our vet r...      5       1   \n",
       "24487   There's something off about the pasta. While m...      3       1   \n",
       "\n",
       "                                                 New text  \\\n",
       "380471  yunnan province mighty mekong river southweste...   \n",
       "95540   yrold grandson diagnosed celiac july searching...   \n",
       "322633  love stuff grew passed along tradition kids al...   \n",
       "230645  dog scratching like crazy vet recommended natu...   \n",
       "24487   theres something pasta much closer regular pas...   \n",
       "\n",
       "                                               Stem-words  \\\n",
       "380471  yunnan province mighty mekong river southweste...   \n",
       "95540   yrold grandson diagnosed celiac july searching...   \n",
       "322633  love stuff grew passed along tradition kids al...   \n",
       "230645  dog scratching like crazy vet recommended natu...   \n",
       "24487   theres something pasta much closer regular pas...   \n",
       "\n",
       "                                          Lemmatize-words  \n",
       "380471  yunnan province mighty mekong river southweste...  \n",
       "95540   yrold grandson diagnosed celiac july searching...  \n",
       "322633  love stuff grew passed along tradition kid als...  \n",
       "230645  dog scratching like crazy vet recommended natu...  \n",
       "24487   there something pasta much closer regular past...  "
      ]
     },
     "execution_count": 22,
     "metadata": {},
     "output_type": "execute_result"
    }
   ],
   "source": [
    "data_balanced.head()"
   ]
  },
  {
   "cell_type": "markdown",
   "metadata": {},
   "source": [
    "# Split Test & Training Data"
   ]
  },
  {
   "cell_type": "code",
   "execution_count": 20,
   "metadata": {},
   "outputs": [
    {
     "ename": "ValueError",
     "evalue": "Found input variables with inconsistent numbers of samples: [8, 2200]",
     "output_type": "error",
     "traceback": [
      "\u001b[1;31m---------------------------------------------------------------------------\u001b[0m",
      "\u001b[1;31mValueError\u001b[0m                                Traceback (most recent call last)",
      "\u001b[1;32m<ipython-input-20-efc379ab1fee>\u001b[0m in \u001b[0;36m<module>\u001b[1;34m\u001b[0m\n\u001b[0;32m      1\u001b[0m \u001b[0mX\u001b[0m \u001b[1;33m=\u001b[0m \u001b[0mdata_text\u001b[0m\u001b[1;33m[\u001b[0m\u001b[1;33m:\u001b[0m\u001b[1;36m8\u001b[0m\u001b[1;33m]\u001b[0m\u001b[1;33m.\u001b[0m\u001b[0mcopy\u001b[0m\u001b[1;33m(\u001b[0m\u001b[1;33m)\u001b[0m\u001b[1;33m\u001b[0m\u001b[1;33m\u001b[0m\u001b[0m\n\u001b[0;32m      2\u001b[0m \u001b[0mY\u001b[0m \u001b[1;33m=\u001b[0m \u001b[0mdata_text\u001b[0m\u001b[1;33m[\u001b[0m\u001b[1;34m\"target\"\u001b[0m\u001b[1;33m]\u001b[0m\u001b[1;33m\u001b[0m\u001b[1;33m\u001b[0m\u001b[0m\n\u001b[1;32m----> 3\u001b[1;33m \u001b[0mX_train\u001b[0m\u001b[1;33m,\u001b[0m \u001b[0mX_test\u001b[0m\u001b[1;33m,\u001b[0m \u001b[0my_train\u001b[0m\u001b[1;33m,\u001b[0m \u001b[0my_test\u001b[0m \u001b[1;33m=\u001b[0m \u001b[0mtrain_test_split\u001b[0m\u001b[1;33m(\u001b[0m\u001b[0mX\u001b[0m\u001b[1;33m,\u001b[0m \u001b[0mY\u001b[0m\u001b[1;33m,\u001b[0m \u001b[0mtest_size\u001b[0m\u001b[1;33m=\u001b[0m\u001b[1;36m0.3\u001b[0m \u001b[1;33m,\u001b[0m\u001b[0mrandom_state\u001b[0m\u001b[1;33m=\u001b[0m\u001b[1;36m0\u001b[0m\u001b[1;33m)\u001b[0m\u001b[1;33m\u001b[0m\u001b[1;33m\u001b[0m\u001b[0m\n\u001b[0m",
      "\u001b[1;32m~\\anaconda3\\lib\\site-packages\\sklearn\\model_selection\\_split.py\u001b[0m in \u001b[0;36mtrain_test_split\u001b[1;34m(*arrays, **options)\u001b[0m\n\u001b[0;32m   2125\u001b[0m         \u001b[1;32mraise\u001b[0m \u001b[0mTypeError\u001b[0m\u001b[1;33m(\u001b[0m\u001b[1;34m\"Invalid parameters passed: %s\"\u001b[0m \u001b[1;33m%\u001b[0m \u001b[0mstr\u001b[0m\u001b[1;33m(\u001b[0m\u001b[0moptions\u001b[0m\u001b[1;33m)\u001b[0m\u001b[1;33m)\u001b[0m\u001b[1;33m\u001b[0m\u001b[1;33m\u001b[0m\u001b[0m\n\u001b[0;32m   2126\u001b[0m \u001b[1;33m\u001b[0m\u001b[0m\n\u001b[1;32m-> 2127\u001b[1;33m     \u001b[0marrays\u001b[0m \u001b[1;33m=\u001b[0m \u001b[0mindexable\u001b[0m\u001b[1;33m(\u001b[0m\u001b[1;33m*\u001b[0m\u001b[0marrays\u001b[0m\u001b[1;33m)\u001b[0m\u001b[1;33m\u001b[0m\u001b[1;33m\u001b[0m\u001b[0m\n\u001b[0m\u001b[0;32m   2128\u001b[0m \u001b[1;33m\u001b[0m\u001b[0m\n\u001b[0;32m   2129\u001b[0m     \u001b[0mn_samples\u001b[0m \u001b[1;33m=\u001b[0m \u001b[0m_num_samples\u001b[0m\u001b[1;33m(\u001b[0m\u001b[0marrays\u001b[0m\u001b[1;33m[\u001b[0m\u001b[1;36m0\u001b[0m\u001b[1;33m]\u001b[0m\u001b[1;33m)\u001b[0m\u001b[1;33m\u001b[0m\u001b[1;33m\u001b[0m\u001b[0m\n",
      "\u001b[1;32m~\\anaconda3\\lib\\site-packages\\sklearn\\utils\\validation.py\u001b[0m in \u001b[0;36mindexable\u001b[1;34m(*iterables)\u001b[0m\n\u001b[0;32m    291\u001b[0m     \"\"\"\n\u001b[0;32m    292\u001b[0m     \u001b[0mresult\u001b[0m \u001b[1;33m=\u001b[0m \u001b[1;33m[\u001b[0m\u001b[0m_make_indexable\u001b[0m\u001b[1;33m(\u001b[0m\u001b[0mX\u001b[0m\u001b[1;33m)\u001b[0m \u001b[1;32mfor\u001b[0m \u001b[0mX\u001b[0m \u001b[1;32min\u001b[0m \u001b[0miterables\u001b[0m\u001b[1;33m]\u001b[0m\u001b[1;33m\u001b[0m\u001b[1;33m\u001b[0m\u001b[0m\n\u001b[1;32m--> 293\u001b[1;33m     \u001b[0mcheck_consistent_length\u001b[0m\u001b[1;33m(\u001b[0m\u001b[1;33m*\u001b[0m\u001b[0mresult\u001b[0m\u001b[1;33m)\u001b[0m\u001b[1;33m\u001b[0m\u001b[1;33m\u001b[0m\u001b[0m\n\u001b[0m\u001b[0;32m    294\u001b[0m     \u001b[1;32mreturn\u001b[0m \u001b[0mresult\u001b[0m\u001b[1;33m\u001b[0m\u001b[1;33m\u001b[0m\u001b[0m\n\u001b[0;32m    295\u001b[0m \u001b[1;33m\u001b[0m\u001b[0m\n",
      "\u001b[1;32m~\\anaconda3\\lib\\site-packages\\sklearn\\utils\\validation.py\u001b[0m in \u001b[0;36mcheck_consistent_length\u001b[1;34m(*arrays)\u001b[0m\n\u001b[0;32m    254\u001b[0m     \u001b[0muniques\u001b[0m \u001b[1;33m=\u001b[0m \u001b[0mnp\u001b[0m\u001b[1;33m.\u001b[0m\u001b[0munique\u001b[0m\u001b[1;33m(\u001b[0m\u001b[0mlengths\u001b[0m\u001b[1;33m)\u001b[0m\u001b[1;33m\u001b[0m\u001b[1;33m\u001b[0m\u001b[0m\n\u001b[0;32m    255\u001b[0m     \u001b[1;32mif\u001b[0m \u001b[0mlen\u001b[0m\u001b[1;33m(\u001b[0m\u001b[0muniques\u001b[0m\u001b[1;33m)\u001b[0m \u001b[1;33m>\u001b[0m \u001b[1;36m1\u001b[0m\u001b[1;33m:\u001b[0m\u001b[1;33m\u001b[0m\u001b[1;33m\u001b[0m\u001b[0m\n\u001b[1;32m--> 256\u001b[1;33m         raise ValueError(\"Found input variables with inconsistent numbers of\"\n\u001b[0m\u001b[0;32m    257\u001b[0m                          \" samples: %r\" % [int(l) for l in lengths])\n\u001b[0;32m    258\u001b[0m \u001b[1;33m\u001b[0m\u001b[0m\n",
      "\u001b[1;31mValueError\u001b[0m: Found input variables with inconsistent numbers of samples: [8, 2200]"
     ]
    }
   ],
   "source": [
    "X = data_text[:8].copy()\n",
    "Y = data_text[\"target\"]\n",
    "X_train, X_test, y_train, y_test = train_test_split(X, Y, test_size=0.3 ,random_state=0)"
   ]
  },
  {
   "cell_type": "code",
   "execution_count": null,
   "metadata": {},
   "outputs": [],
   "source": []
  },
  {
   "cell_type": "code",
   "execution_count": 24,
   "metadata": {},
   "outputs": [],
   "source": [
    "from sklearn.feature_extraction.text import TfidfVectorizer \n",
    "\n",
    "vectorizer = TfidfVectorizer()\n",
    "vectorizer_tfidf  = vectorizer.fit(X_train)\n",
    "\n",
    "X_train = vectorizer.transform(X_train)\n",
    "X_test = vectorizer.transform(X_test)"
   ]
  },
  {
   "cell_type": "code",
   "execution_count": 25,
   "metadata": {},
   "outputs": [
    {
     "name": "stdout",
     "output_type": "stream",
     "text": [
      "Number of rows = (79917, 85364)\n",
      "Number of rows = (34251, 85364)\n",
      "Number of rows = (79917,)\n",
      "Number of rows = (34251,)\n"
     ]
    }
   ],
   "source": [
    "print(\"Number of rows =\" ,X_train.shape)\n",
    "print(\"Number of rows =\" ,X_test.shape)\n",
    "print(\"Number of rows =\" ,y_train.shape)\n",
    "print(\"Number of rows =\" ,y_test.shape)"
   ]
  },
  {
   "cell_type": "code",
   "execution_count": 26,
   "metadata": {},
   "outputs": [
    {
     "name": "stdout",
     "output_type": "stream",
     "text": [
      "Model Accuracy = 84.16%\n"
     ]
    }
   ],
   "source": [
    "# initialize your Model\n",
    "clf = RandomForestClassifier()  \n",
    "\n",
    "# Fit your Model on the Training Dataset\n",
    "clf.fit(X_train, y_train)\n",
    "\n",
    "# Predict on Test data\n",
    "preds = clf.predict(X_test)\n",
    "\n",
    "# Calculate Model Accuracy\n",
    "acc = accuracy_score(preds, y_test)\n",
    "print(f\"Model Accuracy = {round(acc*100,2)}%\")\n"
   ]
  },
  {
   "cell_type": "markdown",
   "metadata": {},
   "source": [
    "# Raw Instance Prediction¶\n"
   ]
  },
  {
   "cell_type": "code",
   "execution_count": 27,
   "metadata": {},
   "outputs": [],
   "source": [
    "def raw_test(review, model, vectorizer):\n",
    "\n",
    "    review_c = review\n",
    "\n",
    "    embedding = vectorizer.transform([review_c])\n",
    "\n",
    "    prediction = model.predict(embedding)\n",
    "\n",
    "    return \"Positive\" if prediction == 1 else \"Negative\""
   ]
  },
  {
   "cell_type": "code",
   "execution_count": 28,
   "metadata": {},
   "outputs": [
    {
     "name": "stdout",
     "output_type": "stream",
     "text": [
      "Row 1 is  Positive\n",
      "Row 2 is  Negative\n"
     ]
    }
   ],
   "source": [
    "review_1 = \"That's a good Dish, Good Job\"\n",
    "review_2 = \"That's the worst Dish ever tasted\"\n",
    "\n",
    "print(\"Row 1 is \",raw_test(review_1, clf, vectorizer_tfidf))\n",
    "print(\"Row 2 is \",raw_test(review_2, clf, vectorizer_tfidf))"
   ]
  },
  {
   "cell_type": "markdown",
   "metadata": {},
   "source": [
    "\n",
    "# Saving Models for Deployment\n"
   ]
  },
  {
   "cell_type": "code",
   "execution_count": 51,
   "metadata": {},
   "outputs": [],
   "source": [
    "import pickle\n",
    "\n",
    "model_name = 'model.pk'\n",
    "vectorizer_name = 'vectorizer.pk'\n",
    "model_path = os.path.join('/', model_name)\n",
    "vect_path = os.path.join('/', vectorizer_name)\n",
    "\n",
    "pickle.dump(clf, open(model_name, 'wb'))\n",
    "pickle.dump(vectorizer, open(vectorizer_name, 'wb'))"
   ]
  },
  {
   "cell_type": "code",
   "execution_count": 30,
   "metadata": {},
   "outputs": [],
   "source": [
    "loaded_model = pickle.load(open(model_name, 'rb'))\n",
    "loaded_vect = pickle.load(open(vectorizer_name, 'rb'))"
   ]
  },
  {
   "cell_type": "code",
   "execution_count": 31,
   "metadata": {},
   "outputs": [
    {
     "name": "stdout",
     "output_type": "stream",
     "text": [
      "Positive\n",
      "Negative\n"
     ]
    }
   ],
   "source": [
    "review_3 = \"good order\"\n",
    "review_4 = \"bad and dirty\"\n",
    "\n",
    "print(raw_test(review_3, loaded_model, loaded_vect))\n",
    "print(raw_test(review_4, loaded_model, loaded_vect))"
   ]
  },
  {
   "cell_type": "code",
   "execution_count": 33,
   "metadata": {},
   "outputs": [
    {
     "name": "stdout",
     "output_type": "stream",
     "text": [
      "Collecting streamlit\n",
      "  Downloading streamlit-0.87.0-py2.py3-none-any.whl (8.0 MB)\n",
      "Collecting pydeck>=0.1.dev5\n",
      "  Downloading pydeck-0.6.2-py2.py3-none-any.whl (4.2 MB)\n",
      "Collecting base58\n",
      "  Downloading base58-2.1.0-py3-none-any.whl (5.6 kB)\n",
      "Collecting pyarrow\n",
      "  Downloading pyarrow-5.0.0-cp38-cp38-win_amd64.whl (14.5 MB)\n",
      "Requirement already satisfied: watchdog; platform_system != \"Darwin\" in c:\\users\\ziad_\\anaconda3\\lib\\site-packages (from streamlit) (0.10.3)\n",
      "Requirement already satisfied: pillow>=6.2.0 in c:\\users\\ziad_\\anaconda3\\lib\\site-packages (from streamlit) (7.2.0)\n",
      "Requirement already satisfied: pandas>=0.21.0 in c:\\users\\ziad_\\anaconda3\\lib\\site-packages (from streamlit) (1.0.5)\n",
      "Collecting astor\n",
      "  Downloading astor-0.8.1-py2.py3-none-any.whl (27 kB)\n",
      "Requirement already satisfied: cachetools>=4.0 in c:\\users\\ziad_\\anaconda3\\lib\\site-packages (from streamlit) (4.2.2)\n",
      "Requirement already satisfied: python-dateutil in c:\\users\\ziad_\\anaconda3\\lib\\site-packages (from streamlit) (2.8.1)\n",
      "Collecting altair>=3.2.0\n",
      "  Downloading altair-4.1.0-py3-none-any.whl (727 kB)\n",
      "Requirement already satisfied: requests in c:\\users\\ziad_\\anaconda3\\lib\\site-packages (from streamlit) (2.24.0)\n",
      "Requirement already satisfied: click<8.0,>=7.0 in c:\\users\\ziad_\\anaconda3\\lib\\site-packages (from streamlit) (7.1.2)\n",
      "Requirement already satisfied: protobuf!=3.11,>=3.6.0 in c:\\users\\ziad_\\anaconda3\\lib\\site-packages (from streamlit) (3.17.1)\n",
      "Requirement already satisfied: toml in c:\\users\\ziad_\\anaconda3\\lib\\site-packages (from streamlit) (0.10.1)\n",
      "Requirement already satisfied: attrs in c:\\users\\ziad_\\anaconda3\\lib\\site-packages (from streamlit) (19.3.0)\n",
      "Collecting gitpython!=3.1.19\n",
      "  Downloading GitPython-3.1.18-py3-none-any.whl (170 kB)\n",
      "Requirement already satisfied: numpy in c:\\users\\ziad_\\anaconda3\\lib\\site-packages (from streamlit) (1.19.5)\n",
      "Collecting tzlocal\n",
      "  Downloading tzlocal-3.0-py3-none-any.whl (16 kB)\n",
      "Collecting validators\n",
      "  Downloading validators-0.18.2-py3-none-any.whl (19 kB)\n",
      "Collecting blinker\n",
      "  Downloading blinker-1.4.tar.gz (111 kB)\n",
      "Requirement already satisfied: tornado>=5.0 in c:\\users\\ziad_\\anaconda3\\lib\\site-packages (from streamlit) (6.0.4)\n",
      "Requirement already satisfied: packaging in c:\\users\\ziad_\\anaconda3\\lib\\site-packages (from streamlit) (20.4)\n",
      "Requirement already satisfied: ipywidgets>=7.0.0 in c:\\users\\ziad_\\anaconda3\\lib\\site-packages (from pydeck>=0.1.dev5->streamlit) (7.5.1)\n",
      "Requirement already satisfied: traitlets>=4.3.2 in c:\\users\\ziad_\\anaconda3\\lib\\site-packages (from pydeck>=0.1.dev5->streamlit) (4.3.3)\n",
      "Requirement already satisfied: ipykernel>=5.1.2; python_version >= \"3.4\" in c:\\users\\ziad_\\anaconda3\\lib\\site-packages (from pydeck>=0.1.dev5->streamlit) (5.3.2)\n",
      "Requirement already satisfied: jinja2>=2.10.1 in c:\\users\\ziad_\\anaconda3\\lib\\site-packages (from pydeck>=0.1.dev5->streamlit) (2.11.2)\n",
      "Requirement already satisfied: pathtools>=0.1.1 in c:\\users\\ziad_\\anaconda3\\lib\\site-packages (from watchdog; platform_system != \"Darwin\"->streamlit) (0.1.2)\n",
      "Requirement already satisfied: pytz>=2017.2 in c:\\users\\ziad_\\anaconda3\\lib\\site-packages (from pandas>=0.21.0->streamlit) (2020.1)\n",
      "Requirement already satisfied: six>=1.5 in c:\\users\\ziad_\\anaconda3\\lib\\site-packages (from python-dateutil->streamlit) (1.15.0)\n",
      "Requirement already satisfied: entrypoints in c:\\users\\ziad_\\anaconda3\\lib\\site-packages (from altair>=3.2.0->streamlit) (0.3)\n",
      "Requirement already satisfied: toolz in c:\\users\\ziad_\\anaconda3\\lib\\site-packages (from altair>=3.2.0->streamlit) (0.10.0)\n",
      "Requirement already satisfied: jsonschema in c:\\users\\ziad_\\anaconda3\\lib\\site-packages (from altair>=3.2.0->streamlit) (3.2.0)\n",
      "Requirement already satisfied: chardet<4,>=3.0.2 in c:\\users\\ziad_\\anaconda3\\lib\\site-packages (from requests->streamlit) (3.0.4)\n",
      "Requirement already satisfied: certifi>=2017.4.17 in c:\\users\\ziad_\\anaconda3\\lib\\site-packages (from requests->streamlit) (2020.6.20)\n",
      "Requirement already satisfied: idna<3,>=2.5 in c:\\users\\ziad_\\anaconda3\\lib\\site-packages (from requests->streamlit) (2.10)\n",
      "Requirement already satisfied: urllib3!=1.25.0,!=1.25.1,<1.26,>=1.21.1 in c:\\users\\ziad_\\anaconda3\\lib\\site-packages (from requests->streamlit) (1.25.9)\n",
      "Collecting gitdb<5,>=4.0.1\n",
      "  Downloading gitdb-4.0.7-py3-none-any.whl (63 kB)\n",
      "Collecting tzdata; platform_system == \"Windows\"\n",
      "  Downloading tzdata-2021.1-py2.py3-none-any.whl (338 kB)\n",
      "Collecting backports.zoneinfo; python_version < \"3.9\"\n",
      "  Downloading backports.zoneinfo-0.2.1-cp38-cp38-win_amd64.whl (38 kB)\n",
      "Requirement already satisfied: decorator>=3.4.0 in c:\\users\\ziad_\\anaconda3\\lib\\site-packages (from validators->streamlit) (4.4.2)\n",
      "Requirement already satisfied: pyparsing>=2.0.2 in c:\\users\\ziad_\\anaconda3\\lib\\site-packages (from packaging->streamlit) (2.4.7)\n",
      "Requirement already satisfied: nbformat>=4.2.0 in c:\\users\\ziad_\\anaconda3\\lib\\site-packages (from ipywidgets>=7.0.0->pydeck>=0.1.dev5->streamlit) (5.0.7)\n",
      "Requirement already satisfied: widgetsnbextension~=3.5.0 in c:\\users\\ziad_\\anaconda3\\lib\\site-packages (from ipywidgets>=7.0.0->pydeck>=0.1.dev5->streamlit) (3.5.1)\n",
      "Requirement already satisfied: ipython>=4.0.0; python_version >= \"3.3\" in c:\\users\\ziad_\\anaconda3\\lib\\site-packages (from ipywidgets>=7.0.0->pydeck>=0.1.dev5->streamlit) (7.16.1)\n",
      "Requirement already satisfied: ipython-genutils in c:\\users\\ziad_\\anaconda3\\lib\\site-packages (from traitlets>=4.3.2->pydeck>=0.1.dev5->streamlit) (0.2.0)\n",
      "Requirement already satisfied: jupyter-client in c:\\users\\ziad_\\anaconda3\\lib\\site-packages (from ipykernel>=5.1.2; python_version >= \"3.4\"->pydeck>=0.1.dev5->streamlit) (6.1.6)\n",
      "Requirement already satisfied: MarkupSafe>=0.23 in c:\\users\\ziad_\\anaconda3\\lib\\site-packages (from jinja2>=2.10.1->pydeck>=0.1.dev5->streamlit) (1.1.1)\n",
      "Requirement already satisfied: setuptools in c:\\users\\ziad_\\anaconda3\\lib\\site-packages (from jsonschema->altair>=3.2.0->streamlit) (49.2.0.post20200714)\n",
      "Requirement already satisfied: pyrsistent>=0.14.0 in c:\\users\\ziad_\\anaconda3\\lib\\site-packages (from jsonschema->altair>=3.2.0->streamlit) (0.16.0)\n",
      "Collecting smmap<5,>=3.0.1\n",
      "  Downloading smmap-4.0.0-py2.py3-none-any.whl (24 kB)\n",
      "Requirement already satisfied: jupyter-core in c:\\users\\ziad_\\anaconda3\\lib\\site-packages (from nbformat>=4.2.0->ipywidgets>=7.0.0->pydeck>=0.1.dev5->streamlit) (4.6.3)\n",
      "Requirement already satisfied: notebook>=4.4.1 in c:\\users\\ziad_\\anaconda3\\lib\\site-packages (from widgetsnbextension~=3.5.0->ipywidgets>=7.0.0->pydeck>=0.1.dev5->streamlit) (6.0.3)\n",
      "Requirement already satisfied: pickleshare in c:\\users\\ziad_\\anaconda3\\lib\\site-packages (from ipython>=4.0.0; python_version >= \"3.3\"->ipywidgets>=7.0.0->pydeck>=0.1.dev5->streamlit) (0.7.5)\n",
      "Requirement already satisfied: colorama; sys_platform == \"win32\" in c:\\users\\ziad_\\anaconda3\\lib\\site-packages (from ipython>=4.0.0; python_version >= \"3.3\"->ipywidgets>=7.0.0->pydeck>=0.1.dev5->streamlit) (0.4.3)\n",
      "Requirement already satisfied: prompt-toolkit!=3.0.0,!=3.0.1,<3.1.0,>=2.0.0 in c:\\users\\ziad_\\anaconda3\\lib\\site-packages (from ipython>=4.0.0; python_version >= \"3.3\"->ipywidgets>=7.0.0->pydeck>=0.1.dev5->streamlit) (3.0.5)\n",
      "Requirement already satisfied: pygments in c:\\users\\ziad_\\anaconda3\\lib\\site-packages (from ipython>=4.0.0; python_version >= \"3.3\"->ipywidgets>=7.0.0->pydeck>=0.1.dev5->streamlit) (2.6.1)\n",
      "Requirement already satisfied: jedi>=0.10 in c:\\users\\ziad_\\anaconda3\\lib\\site-packages (from ipython>=4.0.0; python_version >= \"3.3\"->ipywidgets>=7.0.0->pydeck>=0.1.dev5->streamlit) (0.17.1)\n",
      "Requirement already satisfied: backcall in c:\\users\\ziad_\\anaconda3\\lib\\site-packages (from ipython>=4.0.0; python_version >= \"3.3\"->ipywidgets>=7.0.0->pydeck>=0.1.dev5->streamlit) (0.2.0)\n",
      "Requirement already satisfied: pyzmq>=13 in c:\\users\\ziad_\\anaconda3\\lib\\site-packages (from jupyter-client->ipykernel>=5.1.2; python_version >= \"3.4\"->pydeck>=0.1.dev5->streamlit) (19.0.1)\n",
      "Requirement already satisfied: pywin32>=1.0; sys_platform == \"win32\" in c:\\users\\ziad_\\anaconda3\\lib\\site-packages (from jupyter-core->nbformat>=4.2.0->ipywidgets>=7.0.0->pydeck>=0.1.dev5->streamlit) (227)\n",
      "Requirement already satisfied: prometheus-client in c:\\users\\ziad_\\anaconda3\\lib\\site-packages (from notebook>=4.4.1->widgetsnbextension~=3.5.0->ipywidgets>=7.0.0->pydeck>=0.1.dev5->streamlit) (0.8.0)\n",
      "Requirement already satisfied: terminado>=0.8.1 in c:\\users\\ziad_\\anaconda3\\lib\\site-packages (from notebook>=4.4.1->widgetsnbextension~=3.5.0->ipywidgets>=7.0.0->pydeck>=0.1.dev5->streamlit) (0.8.3)\n",
      "Requirement already satisfied: nbconvert in c:\\users\\ziad_\\anaconda3\\lib\\site-packages (from notebook>=4.4.1->widgetsnbextension~=3.5.0->ipywidgets>=7.0.0->pydeck>=0.1.dev5->streamlit) (5.6.1)\n",
      "Requirement already satisfied: Send2Trash in c:\\users\\ziad_\\anaconda3\\lib\\site-packages (from notebook>=4.4.1->widgetsnbextension~=3.5.0->ipywidgets>=7.0.0->pydeck>=0.1.dev5->streamlit) (1.5.0)\n",
      "Requirement already satisfied: wcwidth in c:\\users\\ziad_\\anaconda3\\lib\\site-packages (from prompt-toolkit!=3.0.0,!=3.0.1,<3.1.0,>=2.0.0->ipython>=4.0.0; python_version >= \"3.3\"->ipywidgets>=7.0.0->pydeck>=0.1.dev5->streamlit) (0.2.5)\n",
      "Requirement already satisfied: parso<0.8.0,>=0.7.0 in c:\\users\\ziad_\\anaconda3\\lib\\site-packages (from jedi>=0.10->ipython>=4.0.0; python_version >= \"3.3\"->ipywidgets>=7.0.0->pydeck>=0.1.dev5->streamlit) (0.7.0)\n",
      "Requirement already satisfied: testpath in c:\\users\\ziad_\\anaconda3\\lib\\site-packages (from nbconvert->notebook>=4.4.1->widgetsnbextension~=3.5.0->ipywidgets>=7.0.0->pydeck>=0.1.dev5->streamlit) (0.4.4)\n",
      "Requirement already satisfied: pandocfilters>=1.4.1 in c:\\users\\ziad_\\anaconda3\\lib\\site-packages (from nbconvert->notebook>=4.4.1->widgetsnbextension~=3.5.0->ipywidgets>=7.0.0->pydeck>=0.1.dev5->streamlit) (1.4.2)\n",
      "Requirement already satisfied: mistune<2,>=0.8.1 in c:\\users\\ziad_\\anaconda3\\lib\\site-packages (from nbconvert->notebook>=4.4.1->widgetsnbextension~=3.5.0->ipywidgets>=7.0.0->pydeck>=0.1.dev5->streamlit) (0.8.4)\n",
      "Requirement already satisfied: bleach in c:\\users\\ziad_\\anaconda3\\lib\\site-packages (from nbconvert->notebook>=4.4.1->widgetsnbextension~=3.5.0->ipywidgets>=7.0.0->pydeck>=0.1.dev5->streamlit) (3.1.5)\n",
      "Requirement already satisfied: defusedxml in c:\\users\\ziad_\\anaconda3\\lib\\site-packages (from nbconvert->notebook>=4.4.1->widgetsnbextension~=3.5.0->ipywidgets>=7.0.0->pydeck>=0.1.dev5->streamlit) (0.6.0)\n",
      "Requirement already satisfied: webencodings in c:\\users\\ziad_\\anaconda3\\lib\\site-packages (from bleach->nbconvert->notebook>=4.4.1->widgetsnbextension~=3.5.0->ipywidgets>=7.0.0->pydeck>=0.1.dev5->streamlit) (0.5.1)\n",
      "Building wheels for collected packages: blinker\n",
      "  Building wheel for blinker (setup.py): started\n",
      "  Building wheel for blinker (setup.py): finished with status 'done'\n",
      "  Created wheel for blinker: filename=blinker-1.4-py3-none-any.whl size=13451 sha256=65078f5f0ab03bb533ddddca8cbc45c532ab90c65b71340411e46fb105c30314\n",
      "  Stored in directory: c:\\users\\ziad_\\appdata\\local\\pip\\cache\\wheels\\b7\\a5\\68\\fe632054a5eadd531c7a49d740c50eb6adfbeca822b4eab8d4\n",
      "Successfully built blinker\n",
      "Installing collected packages: pydeck, base58, pyarrow, astor, altair, smmap, gitdb, gitpython, tzdata, backports.zoneinfo, tzlocal, validators, blinker, streamlit\n",
      "Successfully installed altair-4.1.0 astor-0.8.1 backports.zoneinfo-0.2.1 base58-2.1.0 blinker-1.4 gitdb-4.0.7 gitpython-3.1.18 pyarrow-5.0.0 pydeck-0.6.2 smmap-4.0.0 streamlit-0.87.0 tzdata-2021.1 tzlocal-3.0 validators-0.18.2\n"
     ]
    }
   ],
   "source": [
    "!pip install streamlit\n",
    "import streamlit as st\n",
    "from PIL import Image\n",
    "  \n",
    "loaded_model = pickle.load(open(model_name, 'rb'))\n",
    "loaded_vect = pickle.load(open(vectorizer_name, 'rb'))\n",
    "  \n",
    "def welcome():\n",
    "    return 'welcome all'\n",
    "  \n",
    "# defining the function which will make the prediction using \n",
    "# the data which the user inputs\n",
    "\n",
    "def prediction(word):  \n",
    "   \n",
    "    prediction = classifier.predict(\n",
    "        [[word]])\n",
    "    print(prediction)\n",
    "    return prediction\n",
    "      "
   ]
  },
  {
   "cell_type": "code",
   "execution_count": 35,
   "metadata": {},
   "outputs": [],
   "source": [
    "# this is the main function in which we define our webpage \n",
    "def main():\n",
    "      # giving the webpage a title\n",
    "    st.title(\"Food review Prediction\")\n",
    "      \n",
    "    html_temp = \"\"\"\n",
    "    <div style =\"background-color:yellow;padding:13px\">\n",
    "    <h1 style =\"color:black;text-align:center;\">Food review Classifier...</h1>\n",
    "    </div>\n",
    "    \"\"\"\n",
    "      \n",
    "    # this line allows us to display the front end aspects we have \n",
    "    # defined in the above code\n",
    "    st.markdown(html_temp, unsafe_allow_html = True)\n",
    "      \n",
    "    # the following lines create text boxes in which the user can enter \n",
    "    # the data required to make the prediction\n",
    "    \n",
    "    review = st.text_input(\"Enter the review\", \"Type Here\")\n",
    "    result =\"\"\n",
    "      \n",
    "    # the below line ensures that when the button called 'Predict' is clicked, \n",
    "    # the prediction function defined above is called to make the prediction \n",
    "    # and store it in the variable result\n",
    "    \n",
    "    if st.button(\"Predict\"):\n",
    "        result = prediction(text)\n",
    "    st.success('The output is {}'.format(result))\n",
    "     \n",
    "if __name__=='__main__':\n",
    "    main()"
   ]
  },
  {
   "cell_type": "code",
   "execution_count": null,
   "metadata": {},
   "outputs": [],
   "source": []
  }
 ],
 "metadata": {
  "hide_input": false,
  "kernelspec": {
   "display_name": "Python 3 (ipykernel)",
   "language": "python",
   "name": "python3"
  },
  "language_info": {
   "codemirror_mode": {
    "name": "ipython",
    "version": 3
   },
   "file_extension": ".py",
   "mimetype": "text/x-python",
   "name": "python",
   "nbconvert_exporter": "python",
   "pygments_lexer": "ipython3",
   "version": "3.9.13"
  }
 },
 "nbformat": 4,
 "nbformat_minor": 4
}
